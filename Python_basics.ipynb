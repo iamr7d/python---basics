{
  "nbformat": 4,
  "nbformat_minor": 0,
  "metadata": {
    "colab": {
      "provenance": [],
      "authorship_tag": "ABX9TyOHbsSJxagdeCvraHUcBgkV",
      "include_colab_link": true
    },
    "kernelspec": {
      "name": "python3",
      "display_name": "Python 3"
    },
    "language_info": {
      "name": "python"
    }
  },
  "cells": [
    {
      "cell_type": "markdown",
      "metadata": {
        "id": "view-in-github",
        "colab_type": "text"
      },
      "source": [
        "<a href=\"https://colab.research.google.com/github/iamr7d/python-basics/blob/main/Python_basics.ipynb\" target=\"_parent\"><img src=\"https://colab.research.google.com/assets/colab-badge.svg\" alt=\"Open In Colab\"/></a>"
      ]
    },
    {
      "cell_type": "markdown",
      "source": [
        "## **Python - Format - Strings**"
      ],
      "metadata": {
        "id": "uoZdZKh7QibQ"
      }
    },
    {
      "cell_type": "markdown",
      "source": [
        "### F-Strings"
      ],
      "metadata": {
        "id": "t8OMrzVDQo_3"
      }
    },
    {
      "cell_type": "markdown",
      "source": [
        "To specify a string as an f-string, simply put an f in front of the string literal, and add curly brackets **{ }** as placeholders for variables and other operations."
      ],
      "metadata": {
        "id": "QFBTdahoQxWA"
      }
    },
    {
      "cell_type": "code",
      "source": [
        "age = 36\n",
        "txt = f\"My name is John, I am {age}\"\n",
        "print(txt)"
      ],
      "metadata": {
        "colab": {
          "base_uri": "https://localhost:8080/"
        },
        "id": "tMGq0ABBQx4I",
        "outputId": "8922376a-04b7-43ba-aff4-51c293433f87"
      },
      "execution_count": null,
      "outputs": [
        {
          "output_type": "stream",
          "name": "stdout",
          "text": [
            "My name is John, I am 36\n"
          ]
        }
      ]
    },
    {
      "cell_type": "code",
      "source": [
        "price = 550\n",
        "txt = f\"price of the car is {price} $\"\n",
        "print(txt)"
      ],
      "metadata": {
        "colab": {
          "base_uri": "https://localhost:8080/"
        },
        "id": "uOzfCSd_Q5hU",
        "outputId": "c519518c-1e89-48fe-d63c-f93bcf457ca7"
      },
      "execution_count": null,
      "outputs": [
        {
          "output_type": "stream",
          "name": "stdout",
          "text": [
            "price of the car is 550 $\n"
          ]
        }
      ]
    },
    {
      "cell_type": "markdown",
      "source": [
        "## **Placeholders and Modifiers**"
      ],
      "metadata": {
        "id": "xijgE7LARI-z"
      }
    },
    {
      "cell_type": "markdown",
      "source": [
        "A placeholder can include a modifier to format the value.\n",
        "\n",
        "A modifier is included by adding a colon : followed by a legal formatting type, like .2f which means fixed point number with 2 decimals:"
      ],
      "metadata": {
        "id": "gbSjH3-8RLw6"
      }
    },
    {
      "cell_type": "code",
      "source": [
        "price = 59\n",
        "txt = f\"The price is {price:.0f} dollars\"\n",
        "print(txt)"
      ],
      "metadata": {
        "colab": {
          "base_uri": "https://localhost:8080/"
        },
        "id": "oX2QPuIIRNTr",
        "outputId": "9bf646e9-9ffa-48f9-b7b2-30aace387731"
      },
      "execution_count": null,
      "outputs": [
        {
          "output_type": "stream",
          "name": "stdout",
          "text": [
            "The price is 59 dollars\n"
          ]
        }
      ]
    },
    {
      "cell_type": "code",
      "source": [
        "price = 59\n",
        "txt = f\"The price is {price:.1f} dollars\"\n",
        "print(txt)"
      ],
      "metadata": {
        "colab": {
          "base_uri": "https://localhost:8080/"
        },
        "id": "WoGkQwGWRaV7",
        "outputId": "88e2d9b6-afa2-46c8-caaf-8a3a3b04ca7e"
      },
      "execution_count": null,
      "outputs": [
        {
          "output_type": "stream",
          "name": "stdout",
          "text": [
            "The price is 59.0 dollars\n"
          ]
        }
      ]
    },
    {
      "cell_type": "code",
      "source": [
        "price = 59\n",
        "txt = f\"The price is {price:.2f} dollars\"\n",
        "print(txt)"
      ],
      "metadata": {
        "colab": {
          "base_uri": "https://localhost:8080/"
        },
        "id": "B7ikgt6xRbvj",
        "outputId": "ad037bdd-c98a-444c-ad4e-3e4d9a6225ea"
      },
      "execution_count": null,
      "outputs": [
        {
          "output_type": "stream",
          "name": "stdout",
          "text": [
            "The price is 59.00 dollars\n"
          ]
        }
      ]
    },
    {
      "cell_type": "code",
      "source": [
        "price = 59\n",
        "txt = f\"The price is {price:.3f} dollars\"\n",
        "print(txt)"
      ],
      "metadata": {
        "colab": {
          "base_uri": "https://localhost:8080/"
        },
        "id": "XeqEvefnRda_",
        "outputId": "e8c9fa36-9bb2-4d1a-c838-f1417ea8a766"
      },
      "execution_count": null,
      "outputs": [
        {
          "output_type": "stream",
          "name": "stdout",
          "text": [
            "The price is 59.000 dollars\n"
          ]
        }
      ]
    },
    {
      "cell_type": "code",
      "source": [
        "price = 59\n",
        "txt = f\"The price is {price:.8f} dollars\"\n",
        "print(txt)"
      ],
      "metadata": {
        "colab": {
          "base_uri": "https://localhost:8080/"
        },
        "id": "MYpAjLkPRelN",
        "outputId": "04c7f474-5aa0-489b-abd6-49e64280eeeb"
      },
      "execution_count": null,
      "outputs": [
        {
          "output_type": "stream",
          "name": "stdout",
          "text": [
            "The price is 59.00000000 dollars\n"
          ]
        }
      ]
    },
    {
      "cell_type": "code",
      "source": [
        "price = 59\n",
        "txt = f\"The price is {price:.1000f} dollars\"\n",
        "print(txt)"
      ],
      "metadata": {
        "colab": {
          "base_uri": "https://localhost:8080/"
        },
        "id": "Qau6F7KCRguA",
        "outputId": "b31ae461-89fd-4c4d-b75d-720093011719"
      },
      "execution_count": null,
      "outputs": [
        {
          "output_type": "stream",
          "name": "stdout",
          "text": [
            "The price is 59.0000000000000000000000000000000000000000000000000000000000000000000000000000000000000000000000000000000000000000000000000000000000000000000000000000000000000000000000000000000000000000000000000000000000000000000000000000000000000000000000000000000000000000000000000000000000000000000000000000000000000000000000000000000000000000000000000000000000000000000000000000000000000000000000000000000000000000000000000000000000000000000000000000000000000000000000000000000000000000000000000000000000000000000000000000000000000000000000000000000000000000000000000000000000000000000000000000000000000000000000000000000000000000000000000000000000000000000000000000000000000000000000000000000000000000000000000000000000000000000000000000000000000000000000000000000000000000000000000000000000000000000000000000000000000000000000000000000000000000000000000000000000000000000000000000000000000000000000000000000000000000000000000000000000000000000000000000000000000000000000000000000000000000000000000000000000000000 dollars\n"
          ]
        }
      ]
    },
    {
      "cell_type": "code",
      "source": [
        "price = 85.564\n",
        "txt = f\"price of the car is {price:.1f} dollars\"\n",
        "print(txt)"
      ],
      "metadata": {
        "colab": {
          "base_uri": "https://localhost:8080/"
        },
        "id": "uW6HPLjNRj3V",
        "outputId": "78ca1438-ef06-47fd-f0dc-739a93b05476"
      },
      "execution_count": null,
      "outputs": [
        {
          "output_type": "stream",
          "name": "stdout",
          "text": [
            "price of the car is 85.6 dollars\n"
          ]
        }
      ]
    },
    {
      "cell_type": "code",
      "source": [
        "price = 85.564\n",
        "txt = f\"price of the car is {price:.3f} dollars\"\n",
        "print(txt)"
      ],
      "metadata": {
        "colab": {
          "base_uri": "https://localhost:8080/"
        },
        "id": "C4E0AAI_R1kL",
        "outputId": "ef790b75-2abe-43e4-fd74-94c833a46573"
      },
      "execution_count": null,
      "outputs": [
        {
          "output_type": "stream",
          "name": "stdout",
          "text": [
            "price of the car is 85.564 dollars\n"
          ]
        }
      ]
    },
    {
      "cell_type": "markdown",
      "source": [
        "A placeholder can contain Python code, like math operations:"
      ],
      "metadata": {
        "id": "Ww2tIzVJR5Pm"
      }
    },
    {
      "cell_type": "code",
      "source": [
        "txt = f\"The price is {20 * 59} dollars\"\n",
        "print(txt)"
      ],
      "metadata": {
        "colab": {
          "base_uri": "https://localhost:8080/"
        },
        "id": "tkTtGotJR5kv",
        "outputId": "ee846f99-c6db-440c-909e-88297baeb7f8"
      },
      "execution_count": null,
      "outputs": [
        {
          "output_type": "stream",
          "name": "stdout",
          "text": [
            "The price is 1180 dollars\n"
          ]
        }
      ]
    },
    {
      "cell_type": "code",
      "source": [
        "txt = f\"The price is {100/20} dollars\"\n",
        "print(txt)"
      ],
      "metadata": {
        "colab": {
          "base_uri": "https://localhost:8080/"
        },
        "id": "cc6ZKUbVR7cP",
        "outputId": "ec54cece-8975-4b6b-f596-838534e46e16"
      },
      "execution_count": null,
      "outputs": [
        {
          "output_type": "stream",
          "name": "stdout",
          "text": [
            "The price is 5.0 dollars\n"
          ]
        }
      ]
    },
    {
      "cell_type": "markdown",
      "source": [
        "# **Python - Escape Characters**"
      ],
      "metadata": {
        "id": "UuN3pKr0SXV0"
      }
    },
    {
      "cell_type": "markdown",
      "source": [
        "To insert characters that are illegal in a string, use an escape character.\n",
        "\n",
        "An escape character is a backslash \\ followed by the character you want to insert."
      ],
      "metadata": {
        "id": "zS_wsQCxTKJ4"
      }
    },
    {
      "cell_type": "code",
      "source": [
        "txt = \"We are the so-called \\\"Vikings\\\" from the north.\"\n",
        "print(txt)"
      ],
      "metadata": {
        "colab": {
          "base_uri": "https://localhost:8080/"
        },
        "id": "3xS02amKSYCa",
        "outputId": "f8f12f1a-46cd-4703-e149-7f86738c992a"
      },
      "execution_count": null,
      "outputs": [
        {
          "output_type": "stream",
          "name": "stdout",
          "text": [
            "We are the so-called \"Vikings\" from the north.\n"
          ]
        }
      ]
    },
    {
      "cell_type": "markdown",
      "source": [
        "![image.png](data:image/png;base64,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)"
      ],
      "metadata": {
        "id": "v7JZSyDBTb3q"
      }
    },
    {
      "cell_type": "markdown",
      "source": [
        "# **Python Booleans**"
      ],
      "metadata": {
        "id": "tp3RVrVKTiYs"
      }
    },
    {
      "cell_type": "markdown",
      "source": [
        "In programming you often need to know if an expression is True or False.\n",
        "\n",
        "You can evaluate any expression in Python, and get one of two answers, True or False."
      ],
      "metadata": {
        "id": "p4xdyWumT1oG"
      }
    },
    {
      "cell_type": "code",
      "source": [
        "print(10 > 9)"
      ],
      "metadata": {
        "colab": {
          "base_uri": "https://localhost:8080/"
        },
        "id": "MPbOdVPyT3w2",
        "outputId": "0b5e1fdb-6edb-43ab-9381-0cb3cdec7882"
      },
      "execution_count": null,
      "outputs": [
        {
          "output_type": "stream",
          "name": "stdout",
          "text": [
            "True\n"
          ]
        }
      ]
    },
    {
      "cell_type": "code",
      "source": [
        "print(10 == 9)"
      ],
      "metadata": {
        "colab": {
          "base_uri": "https://localhost:8080/"
        },
        "id": "yFUOxnduT6NO",
        "outputId": "397e99e3-898e-4769-d2d6-1bd657e8808d"
      },
      "execution_count": null,
      "outputs": [
        {
          "output_type": "stream",
          "name": "stdout",
          "text": [
            "False\n"
          ]
        }
      ]
    },
    {
      "cell_type": "code",
      "source": [
        "print(10 < 9)"
      ],
      "metadata": {
        "colab": {
          "base_uri": "https://localhost:8080/"
        },
        "id": "bywhOKIwT7Q-",
        "outputId": "4b8b0d32-509b-45c8-d70a-a014f3191aef"
      },
      "execution_count": null,
      "outputs": [
        {
          "output_type": "stream",
          "name": "stdout",
          "text": [
            "False\n"
          ]
        }
      ]
    },
    {
      "cell_type": "markdown",
      "source": [
        "When you run a condition in an if statement, Python returns True or False:"
      ],
      "metadata": {
        "id": "dIKL01cMUCHf"
      }
    },
    {
      "cell_type": "code",
      "source": [
        "a = 200\n",
        "b = 33\n",
        "\n",
        "if b > a:\n",
        "  print(\"b is greater than a\")\n",
        "else:\n",
        "  print(\"b is not greater than a\")"
      ],
      "metadata": {
        "colab": {
          "base_uri": "https://localhost:8080/"
        },
        "id": "HzGwMbVSUBT3",
        "outputId": "027bf4d6-bef0-4060-8b98-144614db060e"
      },
      "execution_count": null,
      "outputs": [
        {
          "output_type": "stream",
          "name": "stdout",
          "text": [
            "b is not greater than a\n"
          ]
        }
      ]
    },
    {
      "cell_type": "markdown",
      "source": [
        "## **Evaluate Values and Variables**"
      ],
      "metadata": {
        "id": "rA7RvU4bUGNv"
      }
    },
    {
      "cell_type": "markdown",
      "source": [
        "The bool() function allows you to evaluate any value, and give you True or False in return,"
      ],
      "metadata": {
        "id": "6ciwQ9BYUMVA"
      }
    },
    {
      "cell_type": "code",
      "source": [
        "print(bool(\"Hello\"))"
      ],
      "metadata": {
        "colab": {
          "base_uri": "https://localhost:8080/"
        },
        "id": "yWbwANjsUHoH",
        "outputId": "795a29b6-a6ee-4035-ec71-f06c70277078"
      },
      "execution_count": null,
      "outputs": [
        {
          "output_type": "stream",
          "name": "stdout",
          "text": [
            "True\n"
          ]
        }
      ]
    },
    {
      "cell_type": "code",
      "source": [
        "print(bool(105))"
      ],
      "metadata": {
        "colab": {
          "base_uri": "https://localhost:8080/"
        },
        "id": "-5Ikk8znUKYQ",
        "outputId": "32cebfe2-6720-4a14-fad0-a5c6fbb55566"
      },
      "execution_count": null,
      "outputs": [
        {
          "output_type": "stream",
          "name": "stdout",
          "text": [
            "True\n"
          ]
        }
      ]
    },
    {
      "cell_type": "code",
      "source": [
        "x = \"Hello\"\n",
        "y = 15\n",
        "\n",
        "print(bool(x))\n",
        "print(bool(y))"
      ],
      "metadata": {
        "colab": {
          "base_uri": "https://localhost:8080/"
        },
        "id": "fCgAIEBiUQqJ",
        "outputId": "f0655eb8-25ac-4d62-9f2b-fd8a87a1791c"
      },
      "execution_count": null,
      "outputs": [
        {
          "output_type": "stream",
          "name": "stdout",
          "text": [
            "True\n",
            "True\n"
          ]
        }
      ]
    },
    {
      "cell_type": "markdown",
      "source": [
        "***Most Values are True***\n",
        "\n",
        "\n",
        "* Almost any value is evaluated to True if it has some sort of content.\n",
        "\n",
        "* Any string is True, except empty strings.\n",
        "\n",
        "* Any number is True, except 0.\n",
        "\n",
        "* Any list, tuple, set, and dictionary are True, except empty ones."
      ],
      "metadata": {
        "id": "gM9u-lmlUX3A"
      }
    },
    {
      "cell_type": "code",
      "source": [
        "bool(\"abc\")"
      ],
      "metadata": {
        "colab": {
          "base_uri": "https://localhost:8080/"
        },
        "id": "ObnOSwm2UZCp",
        "outputId": "b38ecfb9-66f8-4f99-99a7-ececf8d95ef9"
      },
      "execution_count": null,
      "outputs": [
        {
          "output_type": "execute_result",
          "data": {
            "text/plain": [
              "True"
            ]
          },
          "metadata": {},
          "execution_count": 77
        }
      ]
    },
    {
      "cell_type": "code",
      "source": [
        "bool(123)"
      ],
      "metadata": {
        "colab": {
          "base_uri": "https://localhost:8080/"
        },
        "id": "RZOkpymLUx9K",
        "outputId": "b01ecbaf-c8f8-44e5-f750-dd621fcb612a"
      },
      "execution_count": null,
      "outputs": [
        {
          "output_type": "execute_result",
          "data": {
            "text/plain": [
              "True"
            ]
          },
          "metadata": {},
          "execution_count": 78
        }
      ]
    },
    {
      "cell_type": "code",
      "source": [
        "bool([\"apple\", \"cherry\", \"banana\"])"
      ],
      "metadata": {
        "colab": {
          "base_uri": "https://localhost:8080/"
        },
        "id": "Cn_KMbwlUzvf",
        "outputId": "00b61664-d2c8-4750-a4b7-6906f0373436"
      },
      "execution_count": null,
      "outputs": [
        {
          "output_type": "execute_result",
          "data": {
            "text/plain": [
              "True"
            ]
          },
          "metadata": {},
          "execution_count": 79
        }
      ]
    },
    {
      "cell_type": "markdown",
      "source": [
        "* In fact, there are not many values that evaluate to False, except empty values, such as (), [], {}, \"\", the number 0, and the value None. And of course the value False evaluates to False."
      ],
      "metadata": {
        "id": "NKk2laJqU--W"
      }
    },
    {
      "cell_type": "code",
      "source": [
        "bool(False)"
      ],
      "metadata": {
        "colab": {
          "base_uri": "https://localhost:8080/"
        },
        "id": "5sxlV8tsVAh-",
        "outputId": "e7e01846-4617-43cb-c68d-2fd9033a1230"
      },
      "execution_count": null,
      "outputs": [
        {
          "output_type": "execute_result",
          "data": {
            "text/plain": [
              "False"
            ]
          },
          "metadata": {},
          "execution_count": 80
        }
      ]
    },
    {
      "cell_type": "code",
      "source": [
        "bool(None)"
      ],
      "metadata": {
        "colab": {
          "base_uri": "https://localhost:8080/"
        },
        "id": "qNPCfl3QVDLJ",
        "outputId": "4d8947c8-aa04-4ab3-d247-399070bf69df"
      },
      "execution_count": null,
      "outputs": [
        {
          "output_type": "execute_result",
          "data": {
            "text/plain": [
              "False"
            ]
          },
          "metadata": {},
          "execution_count": 81
        }
      ]
    },
    {
      "cell_type": "code",
      "source": [
        "bool(0)"
      ],
      "metadata": {
        "colab": {
          "base_uri": "https://localhost:8080/"
        },
        "id": "8dVGejJ9VEwx",
        "outputId": "b8453c96-5556-4ad0-f150-1785f3092677"
      },
      "execution_count": null,
      "outputs": [
        {
          "output_type": "execute_result",
          "data": {
            "text/plain": [
              "False"
            ]
          },
          "metadata": {},
          "execution_count": 82
        }
      ]
    },
    {
      "cell_type": "code",
      "source": [
        "bool(\"\")"
      ],
      "metadata": {
        "colab": {
          "base_uri": "https://localhost:8080/"
        },
        "id": "Ma4iDnXNVGXi",
        "outputId": "9c6c211b-284e-4696-d747-9f57d4511e72"
      },
      "execution_count": null,
      "outputs": [
        {
          "output_type": "execute_result",
          "data": {
            "text/plain": [
              "False"
            ]
          },
          "metadata": {},
          "execution_count": 83
        }
      ]
    },
    {
      "cell_type": "code",
      "source": [
        "bool(())"
      ],
      "metadata": {
        "colab": {
          "base_uri": "https://localhost:8080/"
        },
        "id": "QhVMWkN0VH26",
        "outputId": "8fa3f671-f5e4-4757-9682-a0f09204d8fa"
      },
      "execution_count": null,
      "outputs": [
        {
          "output_type": "execute_result",
          "data": {
            "text/plain": [
              "False"
            ]
          },
          "metadata": {},
          "execution_count": 84
        }
      ]
    },
    {
      "cell_type": "code",
      "source": [
        "bool([])"
      ],
      "metadata": {
        "colab": {
          "base_uri": "https://localhost:8080/"
        },
        "id": "zxQuDbRxVJUr",
        "outputId": "4112b422-cb0f-4873-e9b8-c7c546b72e8e"
      },
      "execution_count": null,
      "outputs": [
        {
          "output_type": "execute_result",
          "data": {
            "text/plain": [
              "False"
            ]
          },
          "metadata": {},
          "execution_count": 85
        }
      ]
    },
    {
      "cell_type": "code",
      "source": [
        "bool({})"
      ],
      "metadata": {
        "colab": {
          "base_uri": "https://localhost:8080/"
        },
        "id": "EnPzJb-ZVLDS",
        "outputId": "689fe4eb-32ab-4250-ac71-ea84906cc01a"
      },
      "execution_count": null,
      "outputs": [
        {
          "output_type": "execute_result",
          "data": {
            "text/plain": [
              "False"
            ]
          },
          "metadata": {},
          "execution_count": 86
        }
      ]
    },
    {
      "cell_type": "markdown",
      "source": [
        "**Functions can Return a Boolean**\n",
        "\n",
        "* You can create functions that returns a Boolean Value:"
      ],
      "metadata": {
        "id": "xZ7hLBk_VUwQ"
      }
    },
    {
      "cell_type": "code",
      "source": [
        "def myFunction() :\n",
        "  return True\n",
        "\n",
        "print(myFunction())"
      ],
      "metadata": {
        "colab": {
          "base_uri": "https://localhost:8080/"
        },
        "id": "J-PiPR7cVX2g",
        "outputId": "97c6838d-132f-440a-e364-83368e03e025"
      },
      "execution_count": null,
      "outputs": [
        {
          "output_type": "stream",
          "name": "stdout",
          "text": [
            "True\n"
          ]
        }
      ]
    },
    {
      "cell_type": "markdown",
      "source": [
        "**isinstance()**\n",
        "\n",
        "* Python also has many built-in functions that return a boolean value, like the isinstance() function, which can be used to determine if an object is of a certain data type:"
      ],
      "metadata": {
        "id": "xlTm-WjiVhIp"
      }
    },
    {
      "cell_type": "code",
      "source": [
        "x = 200\n",
        "print(isinstance(x, int))"
      ],
      "metadata": {
        "colab": {
          "base_uri": "https://localhost:8080/"
        },
        "id": "yABXuk2aVlsO",
        "outputId": "478c5b70-d017-4e21-e3b8-bdf30ce5d30f"
      },
      "execution_count": null,
      "outputs": [
        {
          "output_type": "stream",
          "name": "stdout",
          "text": [
            "True\n"
          ]
        }
      ]
    },
    {
      "cell_type": "code",
      "source": [
        "x = 200\n",
        "print(isinstance(x, str))"
      ],
      "metadata": {
        "colab": {
          "base_uri": "https://localhost:8080/"
        },
        "id": "ejwYxpkCVoi3",
        "outputId": "9228eb4d-e184-4c21-e0c4-68d7ae43946e"
      },
      "execution_count": null,
      "outputs": [
        {
          "output_type": "stream",
          "name": "stdout",
          "text": [
            "False\n"
          ]
        }
      ]
    },
    {
      "cell_type": "code",
      "source": [
        "x = \"200\"\n",
        "print(isinstance(x, str))"
      ],
      "metadata": {
        "colab": {
          "base_uri": "https://localhost:8080/"
        },
        "id": "xpEkjGL8Vqlv",
        "outputId": "9695c6f3-9301-45ca-dd22-a1c365b60163"
      },
      "execution_count": null,
      "outputs": [
        {
          "output_type": "stream",
          "name": "stdout",
          "text": [
            "True\n"
          ]
        }
      ]
    },
    {
      "cell_type": "code",
      "source": [
        "x = 200\n",
        "print(isinstance(x, float))"
      ],
      "metadata": {
        "colab": {
          "base_uri": "https://localhost:8080/"
        },
        "id": "UtrfxQjsVso7",
        "outputId": "6e4f03c5-1ff1-4f5c-fc4a-d72aceb4cbd4"
      },
      "execution_count": null,
      "outputs": [
        {
          "output_type": "stream",
          "name": "stdout",
          "text": [
            "False\n"
          ]
        }
      ]
    },
    {
      "cell_type": "code",
      "source": [
        "x = 200\n",
        "print(isinstance(x, bool))"
      ],
      "metadata": {
        "colab": {
          "base_uri": "https://localhost:8080/"
        },
        "id": "LI6zZfJ6Vua4",
        "outputId": "3ab2111d-1e50-4158-c993-1a5505a28678"
      },
      "execution_count": null,
      "outputs": [
        {
          "output_type": "stream",
          "name": "stdout",
          "text": [
            "False\n"
          ]
        }
      ]
    },
    {
      "cell_type": "markdown",
      "source": [
        "## **Python String Formatting**"
      ],
      "metadata": {
        "id": "TBYjm5yyWgnx"
      }
    },
    {
      "cell_type": "markdown",
      "source": [
        "Return \"Expensive\" if the price is over 50, otherwise return \"Cheap\":"
      ],
      "metadata": {
        "id": "uqTQeuz4Wq55"
      }
    },
    {
      "cell_type": "code",
      "source": [
        "price = 49\n",
        "txt = f\"It is very {'Expensive' if price>50 else 'Cheap'}\"\n",
        "\n",
        "print(txt)"
      ],
      "metadata": {
        "colab": {
          "base_uri": "https://localhost:8080/"
        },
        "id": "3heWJeVfWizY",
        "outputId": "c4a527df-5b70-4311-a92f-0d8a8138e4ca"
      },
      "execution_count": null,
      "outputs": [
        {
          "output_type": "stream",
          "name": "stdout",
          "text": [
            "It is very Cheap\n"
          ]
        }
      ]
    },
    {
      "cell_type": "code",
      "source": [
        "price = 49\n",
        "txt = f\"it is {'good to buy' if price<50 else 'not good'}\"\n",
        "print(txt)"
      ],
      "metadata": {
        "colab": {
          "base_uri": "https://localhost:8080/"
        },
        "id": "DmV3MK6PWt6B",
        "outputId": "0b41fdc9-af0f-45d1-cc38-eebec720b12d"
      },
      "execution_count": null,
      "outputs": [
        {
          "output_type": "stream",
          "name": "stdout",
          "text": [
            "it is good to buy\n"
          ]
        }
      ]
    },
    {
      "cell_type": "markdown",
      "source": [
        "Use the string method **upper()** to convert a value into upper case letters:"
      ],
      "metadata": {
        "id": "T6lWWZMCXKut"
      }
    },
    {
      "cell_type": "code",
      "source": [
        "fruit = \"apples\"\n",
        "txt = f\"I love {fruit.upper()}\"\n",
        "print(txt)"
      ],
      "metadata": {
        "colab": {
          "base_uri": "https://localhost:8080/"
        },
        "id": "ckTXI9vDXKjN",
        "outputId": "e8b484e7-196b-4414-f5fe-617ea7867f04"
      },
      "execution_count": null,
      "outputs": [
        {
          "output_type": "stream",
          "name": "stdout",
          "text": [
            "I love APPLES\n"
          ]
        }
      ]
    },
    {
      "cell_type": "markdown",
      "source": [
        "The function does not have to be a built-in Python method,\n",
        "\n",
        "you can create your own functions and use them:"
      ],
      "metadata": {
        "id": "NdJrBGknXRiF"
      }
    },
    {
      "cell_type": "code",
      "source": [
        "def myconverter(x):\n",
        "  return x * 0.3048\n",
        "\n",
        "txt = f\"The plane is flying at a {myconverter(30000)} meter altitude\"\n",
        "print(txt)"
      ],
      "metadata": {
        "colab": {
          "base_uri": "https://localhost:8080/"
        },
        "id": "YePewuqNXQgW",
        "outputId": "d6efeb0b-062f-480b-d9df-85b220047be3"
      },
      "execution_count": null,
      "outputs": [
        {
          "output_type": "stream",
          "name": "stdout",
          "text": [
            "The plane is flying at a 9144.0 meter altitude\n"
          ]
        }
      ]
    },
    {
      "cell_type": "code",
      "source": [
        "def sum(a,b):\n",
        "  return a+b\n",
        "txt = f\"sum of 5 and 4 is {sum(5,4)}.\"\n",
        "print(txt)"
      ],
      "metadata": {
        "colab": {
          "base_uri": "https://localhost:8080/"
        },
        "id": "TpjXrPXQXiwE",
        "outputId": "c8a8ed4d-9759-466f-edc7-38ccaa911762"
      },
      "execution_count": null,
      "outputs": [
        {
          "output_type": "stream",
          "name": "stdout",
          "text": [
            "sum of 5 and 4 is 9.\n"
          ]
        }
      ]
    },
    {
      "cell_type": "code",
      "source": [
        "price = 59000\n",
        "txt = f\"The price is {price:,} dollars\"\n",
        "print(txt)"
      ],
      "metadata": {
        "colab": {
          "base_uri": "https://localhost:8080/"
        },
        "id": "AOwSlrGYYHk0",
        "outputId": "8b8e1242-2c2e-4290-e86c-69432f144e3f"
      },
      "execution_count": null,
      "outputs": [
        {
          "output_type": "stream",
          "name": "stdout",
          "text": [
            "The price is 59,000 dollars\n"
          ]
        }
      ]
    },
    {
      "cell_type": "markdown",
      "source": [
        "### **String format()**"
      ],
      "metadata": {
        "id": "u_1V9okgYPBU"
      }
    },
    {
      "cell_type": "markdown",
      "source": [
        "* The format() method also uses curly brackets as placeholders {}, but the syntax is slightly different:"
      ],
      "metadata": {
        "id": "X2LXlHsHYYyZ"
      }
    },
    {
      "cell_type": "code",
      "source": [
        "price = 49\n",
        "txt = \"The price is {} dollars\"\n",
        "print(txt.format(price))"
      ],
      "metadata": {
        "colab": {
          "base_uri": "https://localhost:8080/"
        },
        "id": "0qR92J8jYQYM",
        "outputId": "823dcd07-5f30-45a8-c7d7-ec5e57302916"
      },
      "execution_count": null,
      "outputs": [
        {
          "output_type": "stream",
          "name": "stdout",
          "text": [
            "The price is 49 dollars\n"
          ]
        }
      ]
    },
    {
      "cell_type": "code",
      "source": [
        "txt = \"The price is {:.2f} dollars\"\n",
        "print(txt.format(price))"
      ],
      "metadata": {
        "colab": {
          "base_uri": "https://localhost:8080/"
        },
        "id": "kfqHC9nCYa2-",
        "outputId": "2e4493bc-12ec-4ee9-d354-ea550733f615"
      },
      "execution_count": null,
      "outputs": [
        {
          "output_type": "stream",
          "name": "stdout",
          "text": [
            "The price is 49.00 dollars\n"
          ]
        }
      ]
    },
    {
      "cell_type": "code",
      "source": [
        "quantity = 3\n",
        "itemno = 567\n",
        "price = 49\n",
        "myorder = \"I want {} pieces of item number {} for {:.2f} dollars.\"\n",
        "print(myorder.format(quantity, itemno, price))"
      ],
      "metadata": {
        "colab": {
          "base_uri": "https://localhost:8080/"
        },
        "id": "l58LUie4YjGm",
        "outputId": "f321cee3-138b-409f-fbdc-f4a71e51dd43"
      },
      "execution_count": null,
      "outputs": [
        {
          "output_type": "stream",
          "name": "stdout",
          "text": [
            "I want 3 pieces of item number 567 for 49.00 dollars.\n"
          ]
        }
      ]
    },
    {
      "cell_type": "markdown",
      "source": [
        "### **Index Numbers**"
      ],
      "metadata": {
        "id": "j9ZSLclrYt4H"
      }
    },
    {
      "cell_type": "markdown",
      "source": [
        "* You can use index numbers (a number inside the curly brackets {0}) to be sure the values are placed in the correct placeholders:"
      ],
      "metadata": {
        "id": "evGTqcuHYvjp"
      }
    },
    {
      "cell_type": "code",
      "source": [
        "quantity = 3\n",
        "itemno = 567\n",
        "price = 49\n",
        "myorder = \"I want {0} pieces of item number {1} for {2:.2f} dollars.\"\n",
        "print(myorder.format(quantity, itemno, price))"
      ],
      "metadata": {
        "colab": {
          "base_uri": "https://localhost:8080/"
        },
        "id": "7Z3JocQxYung",
        "outputId": "048c00bb-c0c6-4980-e1e7-e78c7b74352a"
      },
      "execution_count": null,
      "outputs": [
        {
          "output_type": "stream",
          "name": "stdout",
          "text": [
            "I want 3 pieces of item number 567 for 49.00 dollars.\n"
          ]
        }
      ]
    },
    {
      "cell_type": "markdown",
      "source": [
        "Also, if you want to refer to the same value more than once, use the index number:"
      ],
      "metadata": {
        "id": "Mrzwox_XY7gh"
      }
    },
    {
      "cell_type": "code",
      "source": [
        "age = 36\n",
        "name = \"John\"\n",
        "txt = \"His name is {1}. {1} is {0} years old.\"\n",
        "print(txt.format(age, name))"
      ],
      "metadata": {
        "colab": {
          "base_uri": "https://localhost:8080/"
        },
        "id": "0sQc4Nf_Y0G5",
        "outputId": "9115e714-640b-4d96-9d42-189551cfe309"
      },
      "execution_count": null,
      "outputs": [
        {
          "output_type": "stream",
          "name": "stdout",
          "text": [
            "His name is John. John is 36 years old.\n"
          ]
        }
      ]
    },
    {
      "cell_type": "markdown",
      "source": [
        "### **Named Indexes**\n",
        "* You can also use named indexes by entering a name inside the curly brackets {carname}, but then you must use names when you pass the parameter values txt.format(carname = \"Ford\"):"
      ],
      "metadata": {
        "id": "5C4274YmY9cS"
      }
    },
    {
      "cell_type": "code",
      "source": [
        "myorder = \"I have a {carname}, it is a {model}.\"\n",
        "print(myorder.format(carname = \"Ford\", model = \"Mustang\"))"
      ],
      "metadata": {
        "id": "OE7xgNkhY8Ey",
        "outputId": "966a7298-d77b-4368-a74f-5b8499c1cb45",
        "colab": {
          "base_uri": "https://localhost:8080/"
        }
      },
      "execution_count": null,
      "outputs": [
        {
          "output_type": "stream",
          "name": "stdout",
          "text": [
            "I have a Ford, it is a Mustang.\n"
          ]
        }
      ]
    },
    {
      "cell_type": "markdown",
      "source": [
        "# **LIST**"
      ],
      "metadata": {
        "id": "Y51ynJFg64kq"
      }
    },
    {
      "cell_type": "markdown",
      "source": [
        "* Lists are used to store multiple items in a single variable.\n",
        "\n",
        "* Lists are one of 4 built-in data types in Python used to store collections of data, the other 3 are Tuple, Set, and Dictionary, all with different qualities and usage.\n",
        "\n",
        "* Lists are created using square brackets:"
      ],
      "metadata": {
        "id": "QWCBEhLP66cG"
      }
    },
    {
      "cell_type": "markdown",
      "source": [
        "Create a List:"
      ],
      "metadata": {
        "id": "gzQaVS8P7EXg"
      }
    },
    {
      "cell_type": "code",
      "source": [
        "thislist = [\"apple\", \"banana\", \"cherry\"]\n",
        "print(thislist)"
      ],
      "metadata": {
        "colab": {
          "base_uri": "https://localhost:8080/"
        },
        "id": "80i-hf6H66Kr",
        "outputId": "f1c5da67-a8fa-4a77-89f3-81d7085597c6"
      },
      "execution_count": null,
      "outputs": [
        {
          "output_type": "stream",
          "name": "stdout",
          "text": [
            "['apple', 'banana', 'cherry']\n"
          ]
        }
      ]
    },
    {
      "cell_type": "markdown",
      "source": [
        "## **List Items**\n",
        "* List items are ordered, changeable, and allow duplicate values.\n",
        "\n",
        "* List items are indexed, the first item has index [0], the second item has index [1] etc."
      ],
      "metadata": {
        "id": "cp_5I3eO7Jz5"
      }
    },
    {
      "cell_type": "markdown",
      "source": [
        "## **Ordered**\n",
        "\n",
        "* When we say that lists are ordered, it means that the items have a defined order, and that order will not change.\n",
        "\n",
        "* If you add new items to a list, the new items will be placed at the end of the list."
      ],
      "metadata": {
        "id": "leH7DMrd7SRi"
      }
    },
    {
      "cell_type": "markdown",
      "source": [
        "## **Changeable**\n",
        "\n",
        "* The list is changeable, meaning that we can change, add, and remove items in a list after it has been created."
      ],
      "metadata": {
        "id": "rKBqHn-57cCk"
      }
    },
    {
      "cell_type": "markdown",
      "source": [
        "## **Allow Duplicates**\n",
        "\n",
        "* Since lists are indexed, lists can have items with the same value:"
      ],
      "metadata": {
        "id": "VluNAQHX7faK"
      }
    },
    {
      "cell_type": "code",
      "source": [
        "thislist = [\"apple\", \"banana\", \"cherry\", \"apple\", \"cherry\"]\n",
        "print(thislist)"
      ],
      "metadata": {
        "colab": {
          "base_uri": "https://localhost:8080/"
        },
        "id": "CTEmj_hV7iuB",
        "outputId": "d92d21e8-d6e3-4010-8a71-a76821ed797f"
      },
      "execution_count": null,
      "outputs": [
        {
          "output_type": "stream",
          "name": "stdout",
          "text": [
            "['apple', 'banana', 'cherry', 'apple', 'cherry']\n"
          ]
        }
      ]
    },
    {
      "cell_type": "markdown",
      "source": [
        "## **List Length**\n",
        "\n",
        "* To determine how many items a list has, use the len() function:"
      ],
      "metadata": {
        "id": "IVCukDyQ7k2L"
      }
    },
    {
      "cell_type": "code",
      "source": [
        "thislist = [\"apple\", \"banana\", \"cherry\"]\n",
        "print(len(thislist))"
      ],
      "metadata": {
        "colab": {
          "base_uri": "https://localhost:8080/"
        },
        "id": "QcCW5t-Q7n-j",
        "outputId": "0b24bfee-1594-4878-fffa-00caa385c514"
      },
      "execution_count": null,
      "outputs": [
        {
          "output_type": "stream",
          "name": "stdout",
          "text": [
            "3\n"
          ]
        }
      ]
    },
    {
      "cell_type": "markdown",
      "source": [
        "## **List Items - Data Types**\n",
        "* List items can be of any data type:"
      ],
      "metadata": {
        "id": "-R0P6iXt_Y5m"
      }
    },
    {
      "cell_type": "code",
      "source": [
        "list1 = [\"apple\", \"banana\", \"cherry\"]\n",
        "list2 = [1, 5, 7, 9, 3]\n",
        "list3 = [True, False, False]"
      ],
      "metadata": {
        "id": "00A1aD7T_cZW"
      },
      "execution_count": null,
      "outputs": []
    },
    {
      "cell_type": "markdown",
      "source": [
        "* A list can contain different data types:"
      ],
      "metadata": {
        "id": "p0veLawE_eJ2"
      }
    },
    {
      "cell_type": "code",
      "source": [
        "list1 = [\"abc\", 34, True, 40, \"male\"]"
      ],
      "metadata": {
        "id": "QwbyqN5V_gju"
      },
      "execution_count": null,
      "outputs": []
    },
    {
      "cell_type": "code",
      "source": [
        "mylist = [\"apple\", \"banana\", \"cherry\"]\n",
        "print(type(mylist))"
      ],
      "metadata": {
        "colab": {
          "base_uri": "https://localhost:8080/"
        },
        "id": "g4SjbRpUBZiL",
        "outputId": "afaec176-3e05-41bf-9c94-9fa918f488a2"
      },
      "execution_count": null,
      "outputs": [
        {
          "output_type": "stream",
          "name": "stdout",
          "text": [
            "<class 'list'>\n"
          ]
        }
      ]
    },
    {
      "cell_type": "markdown",
      "source": [
        "## **The list() Constructor**\n",
        "\n",
        "* It is also possible to use the list() constructor when creating a new list."
      ],
      "metadata": {
        "id": "3K1sIdGNBf1S"
      }
    },
    {
      "cell_type": "code",
      "source": [
        "thislist = list((\"apple\", \"banana\", \"cherry\")) # note the double round-brackets\n",
        "print(thislist)"
      ],
      "metadata": {
        "colab": {
          "base_uri": "https://localhost:8080/"
        },
        "id": "yDGMrpzHBc0r",
        "outputId": "5d162aec-0d85-42e0-ab9a-990d58530da9"
      },
      "execution_count": null,
      "outputs": [
        {
          "output_type": "stream",
          "name": "stdout",
          "text": [
            "['apple', 'banana', 'cherry']\n"
          ]
        }
      ]
    },
    {
      "cell_type": "markdown",
      "source": [
        "![image.png](data:image/png;base64,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)"
      ],
      "metadata": {
        "id": "a2hdo9QuCOfB"
      }
    },
    {
      "cell_type": "markdown",
      "source": [
        "## **Python - Access List Items**"
      ],
      "metadata": {
        "id": "l15MfnvCCk-E"
      }
    },
    {
      "cell_type": "code",
      "source": [
        "thislist = [\"apple\", \"banana\", \"cherry\"]\n",
        "print(thislist[1])"
      ],
      "metadata": {
        "colab": {
          "base_uri": "https://localhost:8080/"
        },
        "id": "zDnDa7IZCPTP",
        "outputId": "ff5755b3-c142-4046-9083-396afd0fb708"
      },
      "execution_count": null,
      "outputs": [
        {
          "output_type": "stream",
          "name": "stdout",
          "text": [
            "banana\n"
          ]
        }
      ]
    },
    {
      "cell_type": "markdown",
      "source": [
        "### **Negative Indexing**\n",
        "* Negative indexing means start from the end\n",
        "\n",
        "* -1 refers to the last item, -2 refers to the second last item etc."
      ],
      "metadata": {
        "id": "DqZdrQx4Cro9"
      }
    },
    {
      "cell_type": "code",
      "source": [
        "thislist = [\"apple\", \"banana\", \"cherry\"]\n",
        "print(thislist[-1])"
      ],
      "metadata": {
        "colab": {
          "base_uri": "https://localhost:8080/"
        },
        "id": "lR8GpOavCxZ9",
        "outputId": "448f4714-0a9d-41a8-b724-d6af3cc18ea9"
      },
      "execution_count": null,
      "outputs": [
        {
          "output_type": "stream",
          "name": "stdout",
          "text": [
            "cherry\n"
          ]
        }
      ]
    },
    {
      "cell_type": "markdown",
      "source": [
        "**Range of Indexes**\n",
        "\n",
        "* You can specify a range of indexes by specifying where to start and where to end the range.\n",
        "\n",
        "* When specifying a range, the return value will be a new list with the specified items."
      ],
      "metadata": {
        "id": "hSIsIqTCC0B1"
      }
    },
    {
      "cell_type": "code",
      "source": [
        "thislist = [\"apple\", \"banana\", \"cherry\", \"orange\", \"kiwi\", \"melon\", \"mango\"]\n",
        "print(thislist[2:5])\n",
        "\n",
        "#The search will start at index 2 (included)\n",
        "#and end at index 5 (not included)."
      ],
      "metadata": {
        "colab": {
          "base_uri": "https://localhost:8080/"
        },
        "id": "BEh9ILzTC4B2",
        "outputId": "c842d8ca-5ee1-4e7d-9f46-8942f3fbc25f"
      },
      "execution_count": null,
      "outputs": [
        {
          "output_type": "stream",
          "name": "stdout",
          "text": [
            "['cherry', 'orange', 'kiwi']\n"
          ]
        }
      ]
    },
    {
      "cell_type": "markdown",
      "source": [
        "* **By leaving out the start value, the range will start at the first item:**"
      ],
      "metadata": {
        "id": "YK0pwdPMEpR5"
      }
    },
    {
      "cell_type": "code",
      "source": [
        "thislist = [\"apple\", \"banana\", \"cherry\", \"orange\", \"kiwi\", \"melon\", \"mango\"]\n",
        "print(thislist[:4])"
      ],
      "metadata": {
        "colab": {
          "base_uri": "https://localhost:8080/"
        },
        "id": "S6w0ePBaDDCW",
        "outputId": "53a750ad-4d38-4415-eb1b-dd246d53dfd7"
      },
      "execution_count": null,
      "outputs": [
        {
          "output_type": "stream",
          "name": "stdout",
          "text": [
            "['apple', 'banana', 'cherry', 'orange']\n"
          ]
        }
      ]
    },
    {
      "cell_type": "markdown",
      "source": [
        "* **By leaving out the end value, the range will go on to the end of the list:**"
      ],
      "metadata": {
        "id": "U4iHJzoCExFa"
      }
    },
    {
      "cell_type": "code",
      "source": [
        "thislist = [\"apple\", \"banana\", \"cherry\", \"orange\", \"kiwi\", \"melon\", \"mango\"]\n",
        "print(thislist[2:])"
      ],
      "metadata": {
        "colab": {
          "base_uri": "https://localhost:8080/"
        },
        "id": "BXKd7548EyXo",
        "outputId": "f8027051-89f3-4eed-ac01-12bf34761aa9"
      },
      "execution_count": null,
      "outputs": [
        {
          "output_type": "stream",
          "name": "stdout",
          "text": [
            "['cherry', 'orange', 'kiwi', 'melon', 'mango']\n"
          ]
        }
      ]
    },
    {
      "cell_type": "markdown",
      "source": [
        "## **Range of Negative Indexes**\n",
        "* Specify negative indexes if you want to start the search from the end of the list:"
      ],
      "metadata": {
        "id": "johsvQwhE3bT"
      }
    },
    {
      "cell_type": "code",
      "source": [
        "thislist = [\"apple\", \"banana\", \"cherry\", \"orange\", \"kiwi\", \"melon\", \"mango\"]\n",
        "print(thislist[-4:-1])"
      ],
      "metadata": {
        "colab": {
          "base_uri": "https://localhost:8080/"
        },
        "id": "CEtwoFFHE14C",
        "outputId": "43515b68-8db2-4071-9825-5c2bdf89033d"
      },
      "execution_count": null,
      "outputs": [
        {
          "output_type": "stream",
          "name": "stdout",
          "text": [
            "['orange', 'kiwi', 'melon']\n"
          ]
        }
      ]
    },
    {
      "cell_type": "markdown",
      "source": [
        "**Check if Item Exists**\n",
        "* To determine if a specified item is present in a list use the in keyword:"
      ],
      "metadata": {
        "id": "rPLQavwBFQFW"
      }
    },
    {
      "cell_type": "code",
      "source": [
        "thislist = [\"apple\", \"banana\", \"cherry\"]\n",
        "if \"apple\" in thislist:\n",
        "  print(\"Yes, 'apple' is in the fruits list\")"
      ],
      "metadata": {
        "colab": {
          "base_uri": "https://localhost:8080/"
        },
        "id": "udYNYkesFSIG",
        "outputId": "d47cec97-8e75-464a-88df-b89e519e2d1c"
      },
      "execution_count": null,
      "outputs": [
        {
          "output_type": "stream",
          "name": "stdout",
          "text": [
            "Yes, 'apple' is in the fruits list\n"
          ]
        }
      ]
    },
    {
      "cell_type": "markdown",
      "source": [
        "**Change List Items**\n",
        "* To change the value of a specific item, refer to the index number:"
      ],
      "metadata": {
        "id": "ThcnK-dOG-lR"
      }
    },
    {
      "cell_type": "code",
      "source": [
        "thislist = [\"apple\", \"banana\", \"cherry\"]\n",
        "thislist[1] = \"blackcurrant\"\n",
        "print(thislist)"
      ],
      "metadata": {
        "colab": {
          "base_uri": "https://localhost:8080/"
        },
        "id": "dlda_StOHB1w",
        "outputId": "9783858d-7f09-4559-efe9-069c2dc515ca"
      },
      "execution_count": null,
      "outputs": [
        {
          "output_type": "stream",
          "name": "stdout",
          "text": [
            "['apple', 'blackcurrant', 'cherry']\n"
          ]
        }
      ]
    },
    {
      "cell_type": "markdown",
      "source": [
        "**Change a Range of Item Values**\n",
        "\n",
        "* To change the value of items within a specific range, define a list with the new values, and refer to the range of index numbers where you want to insert the new values:"
      ],
      "metadata": {
        "id": "othLctGrHE_L"
      }
    },
    {
      "cell_type": "code",
      "source": [
        "thislist = [\"apple\", \"banana\", \"cherry\", \"orange\", \"kiwi\", \"mango\"]\n",
        "thislist[1:3] = [\"blackcurrant\", \"watermelon\"]\n",
        "print(thislist)"
      ],
      "metadata": {
        "colab": {
          "base_uri": "https://localhost:8080/"
        },
        "id": "JD7JFX0sHHib",
        "outputId": "1bceca9f-a32a-41bc-a8cd-39aecd39bd89"
      },
      "execution_count": null,
      "outputs": [
        {
          "output_type": "stream",
          "name": "stdout",
          "text": [
            "['apple', 'blackcurrant', 'watermelon', 'orange', 'kiwi', 'mango']\n"
          ]
        }
      ]
    },
    {
      "cell_type": "markdown",
      "source": [
        "* If you insert more items than you replace, the new items will be inserted where you specified, and the remaining items will move accordingly:"
      ],
      "metadata": {
        "id": "MrvZfXdjHOAs"
      }
    },
    {
      "cell_type": "code",
      "source": [
        "thislist = [\"apple\", \"banana\", \"cherry\"]\n",
        "thislist[1:2] = [\"blackcurrant\", \"watermelon\"]\n",
        "print(thislist)\n",
        "\n",
        "# The length of the list will change when the number of items inserted\n",
        "# does not match the number of items replaced."
      ],
      "metadata": {
        "colab": {
          "base_uri": "https://localhost:8080/"
        },
        "id": "1nj3K8slHOmE",
        "outputId": "0ad0533e-ee02-43bb-ac7e-64c4f0150867"
      },
      "execution_count": null,
      "outputs": [
        {
          "output_type": "stream",
          "name": "stdout",
          "text": [
            "['apple', 'blackcurrant', 'watermelon', 'cherry']\n"
          ]
        }
      ]
    },
    {
      "cell_type": "markdown",
      "source": [
        "* If you insert less items than you replace, the new items will be inserted where you specified, and the remaining items will move accordingly:"
      ],
      "metadata": {
        "id": "iUer6WOHHe5V"
      }
    },
    {
      "cell_type": "code",
      "source": [
        "thislist = [\"apple\", \"banana\", \"cherry\"]\n",
        "thislist[1:3] = [\"watermelon\"]\n",
        "print(thislist)"
      ],
      "metadata": {
        "colab": {
          "base_uri": "https://localhost:8080/"
        },
        "id": "egHBwwdtHeeP",
        "outputId": "b987b9e7-2be3-42fb-f2a1-cfaf8d14b03b"
      },
      "execution_count": null,
      "outputs": [
        {
          "output_type": "stream",
          "name": "stdout",
          "text": [
            "['apple', 'watermelon']\n"
          ]
        }
      ]
    },
    {
      "cell_type": "markdown",
      "source": [
        "## **Insert Items**\n",
        "* To insert a new list item, without replacing any of the existing values, we can use the insert() method.\n",
        "\n",
        "* The insert() method inserts an item at the specified index:"
      ],
      "metadata": {
        "id": "cKhOorBxHtz-"
      }
    },
    {
      "cell_type": "code",
      "source": [
        "thislist = [\"apple\", \"banana\", \"cherry\"]\n",
        "thislist.insert(2, \"watermelon\")\n",
        "print(thislist)"
      ],
      "metadata": {
        "colab": {
          "base_uri": "https://localhost:8080/"
        },
        "id": "tuoZi9NJHxv3",
        "outputId": "8fc04d11-38de-4abb-bcbc-c692e02955e9"
      },
      "execution_count": null,
      "outputs": [
        {
          "output_type": "stream",
          "name": "stdout",
          "text": [
            "['apple', 'banana', 'watermelon', 'cherry']\n"
          ]
        }
      ]
    },
    {
      "cell_type": "markdown",
      "source": [
        "## **Append Items**\n",
        "To add an item to the end of the list, use the append() method:"
      ],
      "metadata": {
        "id": "9JMpE_XaNFVK"
      }
    },
    {
      "cell_type": "code",
      "source": [
        "thislist = [\"apple\", \"banana\", \"cherry\"]\n",
        "thislist.append(\"orange\")\n",
        "print(thislist)"
      ],
      "metadata": {
        "colab": {
          "base_uri": "https://localhost:8080/"
        },
        "id": "MXtxXw8nNG26",
        "outputId": "fcbb2dde-cb55-40bd-feac-894741e1e7c4"
      },
      "execution_count": null,
      "outputs": [
        {
          "output_type": "stream",
          "name": "stdout",
          "text": [
            "['apple', 'banana', 'cherry', 'orange']\n"
          ]
        }
      ]
    },
    {
      "cell_type": "markdown",
      "source": [
        "## **Insert Items**\n",
        "To insert a list item at a specified index, use the insert() method."
      ],
      "metadata": {
        "id": "SQeNhIRTNK_z"
      }
    },
    {
      "cell_type": "code",
      "source": [
        "thislist = [\"apple\", \"banana\", \"cherry\"]\n",
        "thislist.insert(1, \"orange\")\n",
        "print(thislist)"
      ],
      "metadata": {
        "colab": {
          "base_uri": "https://localhost:8080/"
        },
        "id": "FUUQJZziNNCF",
        "outputId": "3127323f-a80e-41ff-8c43-20c6bb5218b4"
      },
      "execution_count": null,
      "outputs": [
        {
          "output_type": "stream",
          "name": "stdout",
          "text": [
            "['apple', 'orange', 'banana', 'cherry']\n"
          ]
        }
      ]
    },
    {
      "cell_type": "markdown",
      "source": [
        "## **Extend List**\n",
        "To append elements from another list to the current list, use the extend() method."
      ],
      "metadata": {
        "id": "TL9Ny4sSNRk0"
      }
    },
    {
      "cell_type": "code",
      "source": [
        "thislist = [\"apple\", \"banana\", \"cherry\"]\n",
        "tropical = [\"mango\", \"pineapple\", \"papaya\"]\n",
        "thislist.extend(tropical)\n",
        "print(thislist)"
      ],
      "metadata": {
        "colab": {
          "base_uri": "https://localhost:8080/"
        },
        "id": "i_p0EPz4NTEk",
        "outputId": "1e554c9c-3d4c-47e5-ef2f-19e3a1a4c62b"
      },
      "execution_count": null,
      "outputs": [
        {
          "output_type": "stream",
          "name": "stdout",
          "text": [
            "['apple', 'banana', 'cherry', 'mango', 'pineapple', 'papaya']\n"
          ]
        }
      ]
    },
    {
      "cell_type": "markdown",
      "source": [
        "## **Add Any Iterable**\n",
        "The extend() method does not have to append lists, you can add any iterable object (tuples, sets, dictionaries etc.)."
      ],
      "metadata": {
        "id": "9JvMFoIJNZIF"
      }
    },
    {
      "cell_type": "code",
      "source": [
        "thislist = [\"apple\", \"banana\", \"cherry\"]\n",
        "thistuple = (\"kiwi\", \"orange\")\n",
        "thislist.extend(thistuple)\n",
        "print(thislist)"
      ],
      "metadata": {
        "colab": {
          "base_uri": "https://localhost:8080/"
        },
        "id": "A0prebXLNas-",
        "outputId": "98b57b85-e99e-4642-ec26-50a43a49f7de"
      },
      "execution_count": null,
      "outputs": [
        {
          "output_type": "stream",
          "name": "stdout",
          "text": [
            "['apple', 'banana', 'cherry', 'kiwi', 'orange']\n"
          ]
        }
      ]
    },
    {
      "cell_type": "markdown",
      "source": [
        "# **Remove List Items**"
      ],
      "metadata": {
        "id": "O1cVNAlTOJ4q"
      }
    },
    {
      "cell_type": "markdown",
      "source": [
        "## **Remove Specified Item**\n",
        "* The remove() method removes the specified item."
      ],
      "metadata": {
        "id": "2EiZWS9pONEy"
      }
    },
    {
      "cell_type": "code",
      "source": [
        "thislist = [\"apple\", \"banana\", \"cherry\"]\n",
        "thislist.remove(\"banana\")\n",
        "print(thislist)"
      ],
      "metadata": {
        "colab": {
          "base_uri": "https://localhost:8080/"
        },
        "id": "1gJHRmIeORcb",
        "outputId": "e96c0a83-67cc-45ab-eccf-9acbd9d47a5a"
      },
      "execution_count": null,
      "outputs": [
        {
          "output_type": "stream",
          "name": "stdout",
          "text": [
            "['apple', 'cherry']\n"
          ]
        }
      ]
    },
    {
      "cell_type": "markdown",
      "source": [
        "* If there are more than one item with the specified value, the remove() method removes the first occurrence:"
      ],
      "metadata": {
        "id": "sDjr54YvOXJV"
      }
    },
    {
      "cell_type": "code",
      "source": [
        "thislist = [\"apple\", \"banana\", \"cherry\", \"banana\", \"kiwi\"]\n",
        "thislist.remove(\"banana\")\n",
        "print(thislist)"
      ],
      "metadata": {
        "colab": {
          "base_uri": "https://localhost:8080/"
        },
        "id": "ooTIeFXCOYRU",
        "outputId": "441bb182-7ea0-4a86-f251-2609150aa2b0"
      },
      "execution_count": null,
      "outputs": [
        {
          "output_type": "stream",
          "name": "stdout",
          "text": [
            "['apple', 'cherry', 'banana', 'kiwi']\n"
          ]
        }
      ]
    },
    {
      "cell_type": "markdown",
      "source": [
        "## **Remove Specified Index**\n",
        "* The pop() method removes the specified index."
      ],
      "metadata": {
        "id": "vyivS8oKOc3t"
      }
    },
    {
      "cell_type": "code",
      "source": [
        "thislist = [\"apple\", \"banana\", \"cherry\"]\n",
        "thislist.pop(1)\n",
        "print(thislist)"
      ],
      "metadata": {
        "colab": {
          "base_uri": "https://localhost:8080/"
        },
        "id": "EUoVfoIHOfqV",
        "outputId": "a1ffac4b-32ef-43bd-f855-f7955f4093f4"
      },
      "execution_count": null,
      "outputs": [
        {
          "output_type": "stream",
          "name": "stdout",
          "text": [
            "['apple', 'cherry']\n"
          ]
        }
      ]
    },
    {
      "cell_type": "markdown",
      "source": [
        "* If you do not specify the index, the pop() method removes the last item."
      ],
      "metadata": {
        "id": "AC_ujmpnOmfH"
      }
    },
    {
      "cell_type": "code",
      "source": [
        "thislist = [\"apple\", \"banana\", \"cherry\"]\n",
        "thislist.pop()\n",
        "print(thislist)"
      ],
      "metadata": {
        "colab": {
          "base_uri": "https://localhost:8080/"
        },
        "id": "AWE1_BlROnYA",
        "outputId": "0ad1f2e8-0710-47b0-ca89-58640d45a43c"
      },
      "execution_count": null,
      "outputs": [
        {
          "output_type": "stream",
          "name": "stdout",
          "text": [
            "['apple', 'banana']\n"
          ]
        }
      ]
    },
    {
      "cell_type": "markdown",
      "source": [
        "* The del keyword also removes the specified index:"
      ],
      "metadata": {
        "id": "aroyUSUROp5G"
      }
    },
    {
      "cell_type": "code",
      "source": [
        "thislist = [\"apple\", \"banana\", \"cherry\"]\n",
        "del thislist[0]\n",
        "print(thislist)"
      ],
      "metadata": {
        "colab": {
          "base_uri": "https://localhost:8080/"
        },
        "id": "vYCaczSfOqs2",
        "outputId": "3c640def-0bef-489f-cc5a-140334ed888a"
      },
      "execution_count": null,
      "outputs": [
        {
          "output_type": "stream",
          "name": "stdout",
          "text": [
            "['banana', 'cherry']\n"
          ]
        }
      ]
    },
    {
      "cell_type": "markdown",
      "source": [
        "* The del keyword can also delete the list completely."
      ],
      "metadata": {
        "id": "Z23EfHulOySw"
      }
    },
    {
      "cell_type": "code",
      "source": [
        "thislist = [\"apple\", \"banana\", \"cherry\"]\n",
        "del thislist"
      ],
      "metadata": {
        "id": "EUlzBKqmOw6n"
      },
      "execution_count": null,
      "outputs": []
    },
    {
      "cell_type": "markdown",
      "source": [
        "## **Clear the List**\n",
        "* The clear() method empties the list.\n",
        "\n",
        "* The list still remains, but it has no content."
      ],
      "metadata": {
        "id": "gt8KkBUtO5-l"
      }
    },
    {
      "cell_type": "code",
      "source": [
        "thislist = [\"apple\", \"banana\", \"cherry\"]\n",
        "thislist.clear()\n",
        "print(thislist)"
      ],
      "metadata": {
        "colab": {
          "base_uri": "https://localhost:8080/"
        },
        "id": "pizYQzUyO_Lx",
        "outputId": "7e819d88-6dbb-4302-aed9-2ae71427b96a"
      },
      "execution_count": null,
      "outputs": [
        {
          "output_type": "stream",
          "name": "stdout",
          "text": [
            "[]\n"
          ]
        }
      ]
    },
    {
      "cell_type": "markdown",
      "source": [
        "# **Python - Loop Lists**\n",
        "## **Loop Through a List**\n",
        "You can loop through the list items by using a for loop:"
      ],
      "metadata": {
        "id": "D8ovb8ilPWpT"
      }
    },
    {
      "cell_type": "code",
      "source": [
        "thislist = [\"apple\", \"banana\", \"cherry\"]\n",
        "for x in thislist:\n",
        "  print(x)"
      ],
      "metadata": {
        "colab": {
          "base_uri": "https://localhost:8080/"
        },
        "id": "K9o-GuPkPe-U",
        "outputId": "ea4911a7-a5c9-43c5-e380-4c7d232bf8a1"
      },
      "execution_count": null,
      "outputs": [
        {
          "output_type": "stream",
          "name": "stdout",
          "text": [
            "apple\n",
            "banana\n",
            "cherry\n"
          ]
        }
      ]
    },
    {
      "cell_type": "markdown",
      "source": [
        "## **Loop Through the Index Numbers**\n",
        "* You can also loop through the list items by referring to their index number.\n",
        "\n",
        "* Use the range() and len() functions to create a suitable iterable."
      ],
      "metadata": {
        "id": "wbpD-uq5Pjct"
      }
    },
    {
      "cell_type": "code",
      "source": [
        "thislist = [\"apple\", \"banana\", \"cherry\"]\n",
        "for i in range(len(thislist)):\n",
        "  print(thislist[i])"
      ],
      "metadata": {
        "colab": {
          "base_uri": "https://localhost:8080/"
        },
        "id": "cO05Nlh6PmE-",
        "outputId": "1c49aa73-1781-4bb0-ea47-dc52f468af00"
      },
      "execution_count": null,
      "outputs": [
        {
          "output_type": "stream",
          "name": "stdout",
          "text": [
            "apple\n",
            "banana\n",
            "cherry\n"
          ]
        }
      ]
    },
    {
      "cell_type": "markdown",
      "source": [
        "## **Using a While Loop**\n",
        "* You can loop through the list items by using a while loop.\n",
        "\n",
        "* Use the len() function to determine the length of the list, then start at 0 and loop your way through the list items by referring to their indexes.\n",
        "\n",
        "* Remember to increase the index by 1 after each iteration."
      ],
      "metadata": {
        "id": "Cd8CBptyPvWG"
      }
    },
    {
      "cell_type": "code",
      "source": [
        "thislist = [\"apple\", \"banana\", \"cherry\"]\n",
        "i = 0\n",
        "while i < len(thislist):\n",
        "  print(thislist[i])\n",
        "  i = i + 1"
      ],
      "metadata": {
        "colab": {
          "base_uri": "https://localhost:8080/"
        },
        "id": "y-bDvO6UP2Fn",
        "outputId": "9381f4c9-22ae-4470-fcc1-5d535d3ff042"
      },
      "execution_count": null,
      "outputs": [
        {
          "output_type": "stream",
          "name": "stdout",
          "text": [
            "apple\n",
            "banana\n",
            "cherry\n"
          ]
        }
      ]
    },
    {
      "cell_type": "markdown",
      "source": [
        "## **Looping Using List Comprehension**\n",
        "* List Comprehension offers the shortest syntax for looping through lists:"
      ],
      "metadata": {
        "id": "Geaie1txP65X"
      }
    },
    {
      "cell_type": "code",
      "source": [
        "thislist = [\"apple\", \"banana\", \"cherry\"]\n",
        "[print(x) for x in thislist]"
      ],
      "metadata": {
        "colab": {
          "base_uri": "https://localhost:8080/"
        },
        "id": "i9yDxtbNP9XQ",
        "outputId": "f820e71a-4104-4221-9310-e5b91f4062a6"
      },
      "execution_count": null,
      "outputs": [
        {
          "output_type": "stream",
          "name": "stdout",
          "text": [
            "apple\n",
            "banana\n",
            "cherry\n"
          ]
        },
        {
          "output_type": "execute_result",
          "data": {
            "text/plain": [
              "[None, None, None]"
            ]
          },
          "metadata": {},
          "execution_count": 138
        }
      ]
    },
    {
      "cell_type": "markdown",
      "source": [
        "* List comprehension offers a shorter syntax when you want to create a new list based on the values of an existing list."
      ],
      "metadata": {
        "id": "nuaseqDQR9Qu"
      }
    },
    {
      "cell_type": "code",
      "source": [
        "fruits = [\"apple\", \"banana\", \"cherry\", \"kiwi\", \"mango\"]\n",
        "newlist = []\n",
        "\n",
        "for x in fruits:\n",
        "  if \"an\" in x:\n",
        "    newlist.append(x)\n",
        "\n",
        "print(newlist)"
      ],
      "metadata": {
        "colab": {
          "base_uri": "https://localhost:8080/"
        },
        "id": "8H4iuB8CR-4u",
        "outputId": "fd055d12-032f-430f-da05-6b7477476498"
      },
      "execution_count": null,
      "outputs": [
        {
          "output_type": "stream",
          "name": "stdout",
          "text": [
            "['banana', 'mango']\n"
          ]
        }
      ]
    },
    {
      "cell_type": "markdown",
      "source": [
        "* With list comprehension you can do all that with only one line of code:"
      ],
      "metadata": {
        "id": "Hbjw7izQSIof"
      }
    },
    {
      "cell_type": "code",
      "source": [
        "fruits = [\"apple\", \"banana\", \"cherry\", \"kiwi\", \"mango\"]\n",
        "\n",
        "newlist = [x for x in fruits if \"a\" in x]\n",
        "\n",
        "print(newlist)"
      ],
      "metadata": {
        "colab": {
          "base_uri": "https://localhost:8080/"
        },
        "id": "5GQFjQu-SKLX",
        "outputId": "8b6354a4-283c-449d-8c21-7617688157a2"
      },
      "execution_count": null,
      "outputs": [
        {
          "output_type": "stream",
          "name": "stdout",
          "text": [
            "['apple', 'banana', 'mango']\n"
          ]
        }
      ]
    },
    {
      "cell_type": "code",
      "source": [
        "fruits = [\"apple\", \"banana\", \"cherry\", \"kiwi\", \"mango\"]\n",
        "newlist = [x.upper() for x in fruits]\n",
        "print(newlist)"
      ],
      "metadata": {
        "colab": {
          "base_uri": "https://localhost:8080/"
        },
        "id": "Kp8CouZlS8pV",
        "outputId": "6cc57e1e-9a3d-455d-f958-196d011e20f7"
      },
      "execution_count": null,
      "outputs": [
        {
          "output_type": "stream",
          "name": "stdout",
          "text": [
            "['APPLE', 'BANANA', 'CHERRY', 'KIWI', 'MANGO']\n"
          ]
        }
      ]
    },
    {
      "cell_type": "markdown",
      "source": [
        "## **Python - Sort Lists**"
      ],
      "metadata": {
        "id": "yNTQcyn7T1kD"
      }
    },
    {
      "cell_type": "markdown",
      "source": [
        "**Sort List Alphanumerically**\n",
        "\n",
        "* List objects have a sort() method that will sort the list alphanumerically, ascending, by default:"
      ],
      "metadata": {
        "id": "-Gb569SdT21K"
      }
    },
    {
      "cell_type": "code",
      "source": [
        "thislist = [\"orange\", \"mango\", \"kiwi\", \"pineapple\", \"banana\"]\n",
        "thislist.sort()\n",
        "print(thislist)"
      ],
      "metadata": {
        "colab": {
          "base_uri": "https://localhost:8080/"
        },
        "id": "8fvIx-p-T2nC",
        "outputId": "427fe690-ce9b-49c5-9535-1cc0665dd94f"
      },
      "execution_count": null,
      "outputs": [
        {
          "output_type": "stream",
          "name": "stdout",
          "text": [
            "['banana', 'kiwi', 'mango', 'orange', 'pineapple']\n"
          ]
        }
      ]
    },
    {
      "cell_type": "markdown",
      "source": [
        "* Sort the list numerically:"
      ],
      "metadata": {
        "id": "TjVX8LUAT_mz"
      }
    },
    {
      "cell_type": "code",
      "source": [
        "thislist = [100, 50, 65, 82, 23]\n",
        "thislist.sort()\n",
        "print(thislist)"
      ],
      "metadata": {
        "colab": {
          "base_uri": "https://localhost:8080/"
        },
        "id": "n0OiA6yLUAIz",
        "outputId": "81590654-2b7f-41c7-bb2e-acb0bb825493"
      },
      "execution_count": null,
      "outputs": [
        {
          "output_type": "stream",
          "name": "stdout",
          "text": [
            "[23, 50, 65, 82, 100]\n"
          ]
        }
      ]
    },
    {
      "cell_type": "markdown",
      "source": [
        "## **Sort Descending**\n",
        "* To sort descending, use the keyword argument reverse = True:"
      ],
      "metadata": {
        "id": "2ihVkdU0UEYD"
      }
    },
    {
      "cell_type": "code",
      "source": [
        "thislist = [\"orange\", \"mango\", \"kiwi\", \"pineapple\", \"banana\"]\n",
        "thislist.sort(reverse = True)\n",
        "print(thislist)"
      ],
      "metadata": {
        "colab": {
          "base_uri": "https://localhost:8080/"
        },
        "id": "qguEsPBMUHhk",
        "outputId": "67611df6-ea48-47a5-a670-753832b93256"
      },
      "execution_count": null,
      "outputs": [
        {
          "output_type": "stream",
          "name": "stdout",
          "text": [
            "['pineapple', 'orange', 'mango', 'kiwi', 'banana']\n"
          ]
        }
      ]
    },
    {
      "cell_type": "code",
      "source": [
        "thislist = [\"orange\", \"mango\", \"kiwi\", \"pineapple\", \"banana\"]\n",
        "thislist.sort()\n",
        "print(thislist)"
      ],
      "metadata": {
        "colab": {
          "base_uri": "https://localhost:8080/"
        },
        "id": "aHDzN0K5ULPc",
        "outputId": "341fc5a0-6917-4496-fc88-d01b040966f5"
      },
      "execution_count": null,
      "outputs": [
        {
          "output_type": "stream",
          "name": "stdout",
          "text": [
            "['banana', 'kiwi', 'mango', 'orange', 'pineapple']\n"
          ]
        }
      ]
    },
    {
      "cell_type": "code",
      "source": [
        "thislist = [\"orange\", \"mango\", \"kiwi\", \"pineapple\", \"banana\"]\n",
        "thislist.sort(reverse = False)\n",
        "print(thislist)"
      ],
      "metadata": {
        "colab": {
          "base_uri": "https://localhost:8080/"
        },
        "id": "iSjcsEWwUOjD",
        "outputId": "b24d273a-42fb-4dea-ded0-cc46b56c4a96"
      },
      "execution_count": null,
      "outputs": [
        {
          "output_type": "stream",
          "name": "stdout",
          "text": [
            "['banana', 'kiwi', 'mango', 'orange', 'pineapple']\n"
          ]
        }
      ]
    },
    {
      "cell_type": "code",
      "source": [
        "thislist = [100, 50, 65, 82, 23]\n",
        "thislist.sort(reverse = True)\n",
        "print(thislist)"
      ],
      "metadata": {
        "colab": {
          "base_uri": "https://localhost:8080/"
        },
        "id": "kg7gWfIoUUDt",
        "outputId": "ca5bcc5e-eeb7-46e9-87ec-c7802c70d2ed"
      },
      "execution_count": null,
      "outputs": [
        {
          "output_type": "stream",
          "name": "stdout",
          "text": [
            "[100, 82, 65, 50, 23]\n"
          ]
        }
      ]
    },
    {
      "cell_type": "markdown",
      "source": [
        "## **Customize Sort Function**\n",
        "* You can also customize your own function by using the keyword argument key = function.\n",
        "\n",
        "* The function will return a number that will be used to sort the list (the lowest number first):"
      ],
      "metadata": {
        "id": "2p7PcqTKUWKm"
      }
    },
    {
      "cell_type": "code",
      "source": [
        "def myfunc(n):\n",
        "  return abs(n - 50)\n",
        "\n",
        "thislist = [100, 50, 65, 82, 23]\n",
        "\n",
        "for x in thislist:\n",
        "  print(myfunc(x))\n"
      ],
      "metadata": {
        "colab": {
          "base_uri": "https://localhost:8080/"
        },
        "id": "nPkgtJTBUaIm",
        "outputId": "f4e083f8-d50e-4c88-d2b3-f015624f7e5b"
      },
      "execution_count": null,
      "outputs": [
        {
          "output_type": "stream",
          "name": "stdout",
          "text": [
            "50\n",
            "0\n",
            "15\n",
            "32\n",
            "27\n"
          ]
        }
      ]
    },
    {
      "cell_type": "code",
      "source": [
        "def myfunc(n):\n",
        "  return abs(n - 50)\n",
        "\n",
        "thislist = [100, 50, 65, 82, 23]\n",
        "thislist.sort(key = myfunc)\n",
        "print(thislist)"
      ],
      "metadata": {
        "colab": {
          "base_uri": "https://localhost:8080/"
        },
        "id": "XPDYmFGXVBvp",
        "outputId": "468fa7da-963e-4a31-f6d2-3f2f13d33f91"
      },
      "execution_count": null,
      "outputs": [
        {
          "output_type": "stream",
          "name": "stdout",
          "text": [
            "[50, 65, 23, 82, 100]\n"
          ]
        }
      ]
    },
    {
      "cell_type": "markdown",
      "source": [
        "## **Case Insensitive Sort**\n",
        "By default the sort() method is case sensitive, resulting in all capital letters being sorted before lower case letters:"
      ],
      "metadata": {
        "id": "OBbxEM0EVGhT"
      }
    },
    {
      "cell_type": "code",
      "source": [
        "thislist = [\"banana\", \"Orange\", \"Kiwi\", \"cherry\"]\n",
        "thislist.sort()\n",
        "print(thislist)"
      ],
      "metadata": {
        "colab": {
          "base_uri": "https://localhost:8080/"
        },
        "id": "gxEtQNcHVINT",
        "outputId": "30ebd8ae-b664-4e4f-b0a2-c7657c81130a"
      },
      "execution_count": null,
      "outputs": [
        {
          "output_type": "stream",
          "name": "stdout",
          "text": [
            "['Kiwi', 'Orange', 'banana', 'cherry']\n"
          ]
        }
      ]
    },
    {
      "cell_type": "markdown",
      "source": [
        "* Luckily we can use built-in functions as key functions when sorting a list.\n",
        "\n",
        "* So if you want a case-insensitive sort function, use str.lower as a key function:"
      ],
      "metadata": {
        "id": "lleey7BWVP8r"
      }
    },
    {
      "cell_type": "code",
      "source": [
        "thislist = [\"banana\", \"Orange\", \"Kiwi\", \"cherry\"]\n",
        "thislist.sort(key = str.lower)\n",
        "print(thislist)"
      ],
      "metadata": {
        "colab": {
          "base_uri": "https://localhost:8080/"
        },
        "id": "ZsiA4aULVRN7",
        "outputId": "52192930-8608-44e7-b60b-a9b560e1f1db"
      },
      "execution_count": null,
      "outputs": [
        {
          "output_type": "stream",
          "name": "stdout",
          "text": [
            "['banana', 'cherry', 'Kiwi', 'Orange']\n"
          ]
        }
      ]
    },
    {
      "cell_type": "code",
      "source": [
        "thislist = [\"banana\", \"Orange\", \"Kiwi\", \"cherry\"]\n",
        "thislist.reverse()\n",
        "print(thislist)"
      ],
      "metadata": {
        "colab": {
          "base_uri": "https://localhost:8080/"
        },
        "id": "dXRpqrmFVjkW",
        "outputId": "a595c36d-786c-48c5-b965-24e6af156192"
      },
      "execution_count": null,
      "outputs": [
        {
          "output_type": "stream",
          "name": "stdout",
          "text": [
            "['cherry', 'Kiwi', 'Orange', 'banana']\n"
          ]
        }
      ]
    },
    {
      "cell_type": "markdown",
      "source": [
        "## **Python - Copy Lists**"
      ],
      "metadata": {
        "id": "9TOfU3WpXCUy"
      }
    },
    {
      "cell_type": "markdown",
      "source": [
        "**Copy a List**\n",
        "\n",
        "* You cannot copy a list simply by typing list2 = list1, because: list2 will only be a reference to list1, and changes made in list1 will automatically also be made in list2."
      ],
      "metadata": {
        "id": "xjuTWV6wXEJ7"
      }
    },
    {
      "cell_type": "code",
      "source": [
        "thislist = [\"apple\", \"banana\", \"cherry\"]\n",
        "mylist = thislist.copy()\n",
        "print(mylist)"
      ],
      "metadata": {
        "colab": {
          "base_uri": "https://localhost:8080/"
        },
        "id": "34ViDEXTXDzR",
        "outputId": "5649dd1c-2621-4b89-97ec-52951b47dd6e"
      },
      "execution_count": null,
      "outputs": [
        {
          "output_type": "stream",
          "name": "stdout",
          "text": [
            "['apple', 'banana', 'cherry']\n"
          ]
        }
      ]
    },
    {
      "cell_type": "markdown",
      "source": [
        "**Use the list() method**\n",
        "* Another way to make a copy is to use the built-in method list()."
      ],
      "metadata": {
        "id": "cePLfg20XL8J"
      }
    },
    {
      "cell_type": "code",
      "source": [
        "thislist = [\"apple\", \"banana\", \"cherry\"]\n",
        "mylist = list(thislist)\n",
        "print(mylist)"
      ],
      "metadata": {
        "colab": {
          "base_uri": "https://localhost:8080/"
        },
        "id": "Y0oxxngyXO4E",
        "outputId": "87c1b451-33ee-4858-ef49-440fac70bc3e"
      },
      "execution_count": null,
      "outputs": [
        {
          "output_type": "stream",
          "name": "stdout",
          "text": [
            "['apple', 'banana', 'cherry']\n"
          ]
        }
      ]
    },
    {
      "cell_type": "markdown",
      "source": [
        "**Use the slice Operator**\n",
        "* You can also make a copy of a list by using the : (slice) operator."
      ],
      "metadata": {
        "id": "tN14V0WqXTCy"
      }
    },
    {
      "cell_type": "code",
      "source": [
        "thislist = [\"apple\", \"banana\", \"cherry\"]\n",
        "mylist = thislist[:]\n",
        "print(mylist)"
      ],
      "metadata": {
        "colab": {
          "base_uri": "https://localhost:8080/"
        },
        "id": "ssC1gU2UXU1C",
        "outputId": "8bce226f-9b55-4529-98ba-e04019e3d493"
      },
      "execution_count": null,
      "outputs": [
        {
          "output_type": "stream",
          "name": "stdout",
          "text": [
            "['apple', 'banana', 'cherry']\n"
          ]
        }
      ]
    },
    {
      "cell_type": "code",
      "source": [
        "thislist = [\"apple\", \"banana\", \"cherry\"]\n",
        "mylist = thislist[1]\n",
        "print(mylist)"
      ],
      "metadata": {
        "colab": {
          "base_uri": "https://localhost:8080/"
        },
        "id": "UdKSXjxiXfzF",
        "outputId": "efdb6879-9f70-4370-ac52-658c4647cd64"
      },
      "execution_count": null,
      "outputs": [
        {
          "output_type": "stream",
          "name": "stdout",
          "text": [
            "banana\n"
          ]
        }
      ]
    },
    {
      "cell_type": "code",
      "source": [
        "thislist = [\"apple\", \"banana\", \"cherry\"]\n",
        "mylist = thislist[1:2]\n",
        "print(mylist)"
      ],
      "metadata": {
        "colab": {
          "base_uri": "https://localhost:8080/"
        },
        "id": "bB1GQHfbXi8E",
        "outputId": "b881e38e-8d93-478a-b9f1-1808bcab38be"
      },
      "execution_count": null,
      "outputs": [
        {
          "output_type": "stream",
          "name": "stdout",
          "text": [
            "['banana']\n"
          ]
        }
      ]
    },
    {
      "cell_type": "code",
      "source": [
        "thislist = [\"apple\", \"banana\", \"cherry\"]\n",
        "mylist = thislist[:2]\n",
        "print(mylist)"
      ],
      "metadata": {
        "id": "aZ5yXLEEXlb0",
        "outputId": "3411d6f5-cef6-49b6-d959-a19111c8557f",
        "colab": {
          "base_uri": "https://localhost:8080/"
        }
      },
      "execution_count": null,
      "outputs": [
        {
          "output_type": "stream",
          "name": "stdout",
          "text": [
            "['apple', 'banana']\n"
          ]
        }
      ]
    },
    {
      "cell_type": "markdown",
      "source": [
        "## **Join Lists**"
      ],
      "metadata": {
        "id": "8qRJoivJAMEr"
      }
    },
    {
      "cell_type": "markdown",
      "source": [
        "There are several ways to join, or concatenate, two or more lists in Python.\n",
        "\n",
        "* One of the easiest ways are by using the + operator."
      ],
      "metadata": {
        "id": "9p4YJy1vAN4C"
      }
    },
    {
      "cell_type": "code",
      "source": [
        "list1 = [\"a\", \"b\", \"c\"]\n",
        "list2 = [1, 2, 3]\n",
        "\n",
        "list3 = list1 + list2\n",
        "print(list3)"
      ],
      "metadata": {
        "colab": {
          "base_uri": "https://localhost:8080/"
        },
        "id": "ct1Tq6EBAQmz",
        "outputId": "5611fa63-41fc-4ba0-e6fc-7ebbf1c0cab6"
      },
      "execution_count": null,
      "outputs": [
        {
          "output_type": "stream",
          "name": "stdout",
          "text": [
            "['a', 'b', 'c', 1, 2, 3]\n"
          ]
        }
      ]
    },
    {
      "cell_type": "markdown",
      "source": [
        "* Another way to join two lists is by appending all the items from list2 into list1, one by one:"
      ],
      "metadata": {
        "id": "jTGe8Vo1AU_s"
      }
    },
    {
      "cell_type": "code",
      "source": [
        "list1 = [\"a\", \"b\" , \"c\"]\n",
        "list2 = [1, 2, 3]\n",
        "\n",
        "for x in list2:\n",
        "  list1.append(x)\n",
        "\n",
        "print(list1)"
      ],
      "metadata": {
        "colab": {
          "base_uri": "https://localhost:8080/"
        },
        "id": "rKaWEq8pAUxE",
        "outputId": "2df07746-ce0a-4bf1-a9a9-ecfc0adbe5bc"
      },
      "execution_count": null,
      "outputs": [
        {
          "output_type": "stream",
          "name": "stdout",
          "text": [
            "['a', 'b', 'c', 1, 2, 3]\n"
          ]
        }
      ]
    },
    {
      "cell_type": "markdown",
      "source": [
        "* Or you can use the extend() method, where the purpose is to add elements from one list to another list:"
      ],
      "metadata": {
        "id": "lkaXgevMAXf7"
      }
    },
    {
      "cell_type": "code",
      "source": [
        "list1 = [\"a\", \"f\" , \"c\"]\n",
        "list2 = [1, 22, 3]\n",
        "list1.append(list2)\n",
        "print(list1)"
      ],
      "metadata": {
        "colab": {
          "base_uri": "https://localhost:8080/"
        },
        "id": "ojem1mADBHZa",
        "outputId": "020b72f1-5ca7-4368-bdd2-4d91b298c421"
      },
      "execution_count": null,
      "outputs": [
        {
          "output_type": "stream",
          "name": "stdout",
          "text": [
            "['a', 'f', 'c', [1, 22, 3]]\n"
          ]
        }
      ]
    },
    {
      "cell_type": "code",
      "source": [
        "list1 = [\"a\", \"b\" , \"c\"]\n",
        "list2 = [1, 2, 3]\n",
        "\n",
        "list1.extend(list2)\n",
        "print(list1)"
      ],
      "metadata": {
        "colab": {
          "base_uri": "https://localhost:8080/"
        },
        "id": "Y48qeXpAAZ8r",
        "outputId": "8d806ab2-5b8e-47a9-b7a3-6c96cf80c69c"
      },
      "execution_count": null,
      "outputs": [
        {
          "output_type": "stream",
          "name": "stdout",
          "text": [
            "['a', 'b', 'c', 1, 2, 3]\n"
          ]
        }
      ]
    },
    {
      "cell_type": "markdown",
      "source": [
        "![image.png](data:image/png;base64,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)"
      ],
      "metadata": {
        "id": "Uohh0LlBA-aH"
      }
    },
    {
      "cell_type": "markdown",
      "source": [
        "# **Tuples**"
      ],
      "metadata": {
        "id": "pm-Nqa6NCZNy"
      }
    },
    {
      "cell_type": "markdown",
      "source": [
        "* Tuples are used to store multiple items in a single variable.\n",
        "\n",
        "* Tuple is one of 4 built-in data types in Python used to store collections of data, the other 3 are List, Set, and Dictionary, all with different qualities and usage.\n",
        "\n",
        "* A tuple is a collection which is ordered and unchangeable.\n",
        "\n",
        "* Tuples are written with round brackets."
      ],
      "metadata": {
        "id": "ZFbyjGYWCbN4"
      }
    },
    {
      "cell_type": "markdown",
      "source": [
        "**Mnemonic Tricks:**\n",
        "\n",
        "* Tuple: \"T is for Tracked and Things that don't change\"\n",
        "\n",
        "  Use tuples when the order matters and you want an unchangeable sequence.\n",
        "\n",
        "* List: \"L is for Listing items flexibly\"\n",
        "\n",
        "  Use lists when you need to maintain order and might want to change the sequence, like a to-do list.\n",
        "\n",
        "* Set: \"S is for Single unique items\"\n",
        "\n",
        "  Use sets when you need a collection of unique items and don't care about the order, like tracking unique tags.\n",
        "\n",
        "* Dictionary: \"D is for Defined pairs and Diverse keys\"\n",
        "\n",
        "  Use dictionaries when you need to map keys to values, like a phone book or product catalog."
      ],
      "metadata": {
        "id": "0rehjnluE-6s"
      }
    },
    {
      "cell_type": "code",
      "source": [
        "thistuple = (\"apple\", \"banana\", \"cherry\")\n",
        "print(thistuple)"
      ],
      "metadata": {
        "colab": {
          "base_uri": "https://localhost:8080/"
        },
        "id": "oLz8e2-MA_Rq",
        "outputId": "371773fa-add2-450f-b939-12b10889b07a"
      },
      "execution_count": null,
      "outputs": [
        {
          "output_type": "stream",
          "name": "stdout",
          "text": [
            "('apple', 'banana', 'cherry')\n"
          ]
        }
      ]
    },
    {
      "cell_type": "markdown",
      "source": [
        "## **Tuple Items**\n",
        "* Tuple items are ordered, unchangeable, and allow duplicate values.\n",
        "\n",
        "* Tuple items are indexed, the first item has index [0], the second item has index [1] etc."
      ],
      "metadata": {
        "id": "sWyG3ye9FZKm"
      }
    },
    {
      "cell_type": "code",
      "source": [
        "# Tuples allow duplicate values:\n",
        "\n",
        "thistuple = (\"apple\", \"banana\", \"cherry\", \"apple\", \"cherry\")\n",
        "print(thistuple)"
      ],
      "metadata": {
        "colab": {
          "base_uri": "https://localhost:8080/"
        },
        "id": "cUQblx3AFdj9",
        "outputId": "b62b014b-7396-41d2-ae36-dd75ce29ecb1"
      },
      "execution_count": null,
      "outputs": [
        {
          "output_type": "stream",
          "name": "stdout",
          "text": [
            "('apple', 'banana', 'cherry', 'apple', 'cherry')\n"
          ]
        }
      ]
    },
    {
      "cell_type": "markdown",
      "source": [
        "## **Tuple Length**\n",
        "* To determine how many items a tuple has, use the len() function:"
      ],
      "metadata": {
        "id": "rZ7buuQuFgd-"
      }
    },
    {
      "cell_type": "code",
      "source": [
        "thistuple = (\"apple\", \"banana\", \"cherry\")\n",
        "print(len(thistuple))"
      ],
      "metadata": {
        "colab": {
          "base_uri": "https://localhost:8080/"
        },
        "id": "7h1yInhrFihn",
        "outputId": "37062b19-b1e4-458f-fa24-eaf23e822595"
      },
      "execution_count": null,
      "outputs": [
        {
          "output_type": "stream",
          "name": "stdout",
          "text": [
            "3\n"
          ]
        }
      ]
    },
    {
      "cell_type": "markdown",
      "source": [
        "## **Create Tuple With One Item**\n",
        "To create a tuple with only one item, you have to ***add a comma after the item***, otherwise Python will not recognize it as a tuple."
      ],
      "metadata": {
        "id": "M_-EG3H1FlH3"
      }
    },
    {
      "cell_type": "code",
      "source": [
        "#NOT a tuple\n",
        "thistuple = (\"apple\")\n",
        "print(type(thistuple))"
      ],
      "metadata": {
        "colab": {
          "base_uri": "https://localhost:8080/"
        },
        "id": "d6SF9sPyFsFT",
        "outputId": "78ebb2ac-bd9c-4ec2-83fa-01e780678180"
      },
      "execution_count": null,
      "outputs": [
        {
          "output_type": "stream",
          "name": "stdout",
          "text": [
            "<class 'str'>\n"
          ]
        }
      ]
    },
    {
      "cell_type": "code",
      "source": [
        "thistuple = (\"apple\",)\n",
        "print(type(thistuple))\n"
      ],
      "metadata": {
        "colab": {
          "base_uri": "https://localhost:8080/"
        },
        "id": "2ZwT3_c5FnDf",
        "outputId": "811b01fc-b0c8-41bf-b4a6-92aa25b209d7"
      },
      "execution_count": null,
      "outputs": [
        {
          "output_type": "stream",
          "name": "stdout",
          "text": [
            "<class 'tuple'>\n"
          ]
        }
      ]
    },
    {
      "cell_type": "markdown",
      "source": [
        "## **Tuple Items - Data Types**\n",
        "* Tuple items can be of any data type:"
      ],
      "metadata": {
        "id": "EPI_MuZgFx2f"
      }
    },
    {
      "cell_type": "code",
      "source": [
        "tuple1 = (\"apple\", \"banana\", \"cherry\")\n",
        "tuple2 = (1, 5, 7, 9, 3)\n",
        "tuple3 = (True, False, False)"
      ],
      "metadata": {
        "id": "tBDTX7kvFzzR"
      },
      "execution_count": null,
      "outputs": []
    },
    {
      "cell_type": "code",
      "source": [
        "tuple1 = (\"abc\", 34, True, 40, \"male\")"
      ],
      "metadata": {
        "id": "JyRLQ1CAF3d4"
      },
      "execution_count": null,
      "outputs": []
    },
    {
      "cell_type": "markdown",
      "source": [
        "## **The tuple() Constructor**\n",
        "* It is also possible to use the tuple() constructor to make a tuple."
      ],
      "metadata": {
        "id": "xDkg-XvNF8AI"
      }
    },
    {
      "cell_type": "code",
      "source": [
        "thistuple = tuple((\"apple\", \"banana\", \"cherry\")) # note the double round-brackets\n",
        "print(thistuple)"
      ],
      "metadata": {
        "colab": {
          "base_uri": "https://localhost:8080/"
        },
        "id": "Bi7LFb-OF-bC",
        "outputId": "ffbdf756-74cf-4cd4-fc65-beadace07d5c"
      },
      "execution_count": null,
      "outputs": [
        {
          "output_type": "stream",
          "name": "stdout",
          "text": [
            "('apple', 'banana', 'cherry')\n"
          ]
        }
      ]
    },
    {
      "cell_type": "markdown",
      "source": [
        "# **Python Collections (Arrays)**\n",
        "There are four collection data types in the Python programming language:\n",
        "\n",
        "* List is a collection which is ordered and changeable. Allows duplicate members.\n",
        "* Tuple is a collection which is ordered and unchangeable. Allows duplicate members.\n",
        "* Set is a collection which is unordered, unchangeable*, and unindexed. No duplicate members.\n",
        "* Dictionary is a collection which is ordered** and changeable. No duplicate members."
      ],
      "metadata": {
        "id": "9RewTrR9GZa1"
      }
    },
    {
      "cell_type": "markdown",
      "source": [
        "### **Access Tuple Items**\n",
        "You can access tuple items by referring to the index number, inside square brackets:"
      ],
      "metadata": {
        "id": "jn_Uf5o6PiTr"
      }
    },
    {
      "cell_type": "code",
      "source": [
        "thistuple = (\"apple\", \"banana\", \"cherry\")\n",
        "print(thistuple[1])"
      ],
      "metadata": {
        "colab": {
          "base_uri": "https://localhost:8080/"
        },
        "id": "XkWH5KHRGx-A",
        "outputId": "ad3bd77c-964e-435e-ce44-3a5b60c37392"
      },
      "execution_count": null,
      "outputs": [
        {
          "output_type": "stream",
          "name": "stdout",
          "text": [
            "banana\n"
          ]
        }
      ]
    },
    {
      "cell_type": "markdown",
      "source": [
        "### **Negative Indexing**\n",
        "* Negative indexing means start from the end.\n",
        "\n",
        "* -1 refers to the last item, -2 refers to the second last item etc."
      ],
      "metadata": {
        "id": "K9N5nhcUPmnc"
      }
    },
    {
      "cell_type": "code",
      "source": [
        "thistuple = (\"apple\", \"banana\", \"cherry\")\n",
        "print(thistuple[-1])"
      ],
      "metadata": {
        "id": "XrjA06IrPrLX",
        "outputId": "cc4f7737-1789-45ca-dad0-87a72add7334",
        "colab": {
          "base_uri": "https://localhost:8080/"
        }
      },
      "execution_count": null,
      "outputs": [
        {
          "output_type": "stream",
          "name": "stdout",
          "text": [
            "cherry\n"
          ]
        }
      ]
    },
    {
      "cell_type": "markdown",
      "source": [
        "## **Range of Indexes**\n",
        "* You can specify a range of indexes by specifying where to start and where to end the range.\n",
        "\n",
        "* When specifying a range, the return value will be a new tuple with the specified items."
      ],
      "metadata": {
        "id": "FyXZL99kZMSj"
      }
    },
    {
      "cell_type": "code",
      "source": [
        "thistuple = (\"apple\", \"banana\", \"cherry\", \"orange\", \"kiwi\", \"melon\", \"mango\")\n",
        "print(thistuple[2:5])"
      ],
      "metadata": {
        "colab": {
          "base_uri": "https://localhost:8080/"
        },
        "id": "2W_752aVZPRq",
        "outputId": "8ee11032-111a-4897-c9df-85e604ddd481"
      },
      "execution_count": null,
      "outputs": [
        {
          "output_type": "stream",
          "name": "stdout",
          "text": [
            "('cherry', 'orange', 'kiwi')\n"
          ]
        }
      ]
    },
    {
      "cell_type": "code",
      "source": [
        "thistuple = (\"apple\", \"banana\", \"cherry\", \"orange\", \"kiwi\", \"melon\", \"mango\")\n",
        "print(thistuple[:4])"
      ],
      "metadata": {
        "colab": {
          "base_uri": "https://localhost:8080/"
        },
        "id": "6W9C7u2zZWpr",
        "outputId": "096c2982-3e14-4ceb-acf6-5ea558e68cd1"
      },
      "execution_count": null,
      "outputs": [
        {
          "output_type": "stream",
          "name": "stdout",
          "text": [
            "('apple', 'banana', 'cherry', 'orange')\n"
          ]
        }
      ]
    },
    {
      "cell_type": "code",
      "source": [
        "thistuple = (\"apple\", \"banana\", \"cherry\", \"orange\", \"kiwi\", \"melon\", \"mango\")\n",
        "print(thistuple[2:])"
      ],
      "metadata": {
        "colab": {
          "base_uri": "https://localhost:8080/"
        },
        "id": "6pz7mvrkZZ5E",
        "outputId": "555950eb-5649-41ee-bf9f-16a6622f3ad9"
      },
      "execution_count": null,
      "outputs": [
        {
          "output_type": "stream",
          "name": "stdout",
          "text": [
            "('cherry', 'orange', 'kiwi', 'melon', 'mango')\n"
          ]
        }
      ]
    },
    {
      "cell_type": "markdown",
      "source": [
        "## **Range of Negative Indexes**\n",
        "Specify negative indexes if you want to start the search from the end of the tuple:"
      ],
      "metadata": {
        "id": "snnZujFRZfDz"
      }
    },
    {
      "cell_type": "code",
      "source": [
        "thistuple = (\"apple\", \"banana\", \"cherry\", \"orange\", \"kiwi\", \"melon\", \"mango\")\n",
        "print(thistuple[-4:-1])"
      ],
      "metadata": {
        "colab": {
          "base_uri": "https://localhost:8080/"
        },
        "id": "XUUrs8sHZgcb",
        "outputId": "8b216769-ab3d-40dd-f595-68bede75bd12"
      },
      "execution_count": null,
      "outputs": [
        {
          "output_type": "stream",
          "name": "stdout",
          "text": [
            "('orange', 'kiwi', 'melon')\n"
          ]
        }
      ]
    },
    {
      "cell_type": "markdown",
      "source": [
        "## **Check if Item Exists**\n",
        "* To determine if a specified item is present in a tuple use the in keyword:"
      ],
      "metadata": {
        "id": "zc3T5nFYZmRU"
      }
    },
    {
      "cell_type": "code",
      "source": [
        "thistuple = (\"apple\", \"banana\", \"cherry\")\n",
        "if \"apple\" in thistuple:\n",
        "  print(\"Yes, 'apple' is in the fruits tuple\")"
      ],
      "metadata": {
        "colab": {
          "base_uri": "https://localhost:8080/"
        },
        "id": "Kb0vvFLUZl2k",
        "outputId": "de5889db-8213-4a27-9bdb-568252af1492"
      },
      "execution_count": null,
      "outputs": [
        {
          "output_type": "stream",
          "name": "stdout",
          "text": [
            "Yes, 'apple' is in the fruits tuple\n"
          ]
        }
      ]
    },
    {
      "cell_type": "markdown",
      "source": [
        "## **Change Tuple Values**\n",
        "* Once a tuple is created, you cannot change its values. Tuples are unchangeable, or immutable as it also is called.\n",
        "\n",
        "* But there is a workaround. You can convert the tuple into a list, change the list, and convert the list back into a tuple."
      ],
      "metadata": {
        "id": "XxQPf55eaIag"
      }
    },
    {
      "cell_type": "code",
      "source": [
        "x = (\"apple\", \"banana\", \"cherry\")\n",
        "y = list(x)\n",
        "y[1] = \"kiwi\"\n",
        "x = tuple(y)\n",
        "\n",
        "print(x)"
      ],
      "metadata": {
        "colab": {
          "base_uri": "https://localhost:8080/"
        },
        "id": "9HprKRvXaKsS",
        "outputId": "a6053a07-360b-4647-8502-b6bb7a3ea5ca"
      },
      "execution_count": null,
      "outputs": [
        {
          "output_type": "stream",
          "name": "stdout",
          "text": [
            "('apple', 'kiwi', 'cherry')\n"
          ]
        }
      ]
    },
    {
      "cell_type": "markdown",
      "source": [
        "## **Add Items**\n",
        "  Since tuples are immutable, they do not have a built-in append() method, but there are other ways to add items to a tuple.\n",
        "###  **1. Convert into a list:**\n",
        "\n",
        "Just like the workaround for changing a tuple, you can convert it into a list, add your item(s), and convert it back into a tuple."
      ],
      "metadata": {
        "id": "DLtoHuhgabSc"
      }
    },
    {
      "cell_type": "code",
      "source": [
        "thistuple = (\"apple\", \"banana\", \"cherry\")\n",
        "y = list(thistuple)\n",
        "y.append(\"orange\")\n",
        "thistuple = tuple(y)\n",
        "thistuple"
      ],
      "metadata": {
        "colab": {
          "base_uri": "https://localhost:8080/"
        },
        "id": "a23TEpLyaoLr",
        "outputId": "f6967daa-2683-4c35-a2a3-dcd10333b011"
      },
      "execution_count": null,
      "outputs": [
        {
          "output_type": "execute_result",
          "data": {
            "text/plain": [
              "('apple', 'banana', 'cherry', 'orange')"
            ]
          },
          "metadata": {},
          "execution_count": 179
        }
      ]
    },
    {
      "cell_type": "markdown",
      "source": [
        "### **2. Add tuple to a tuple.**\n",
        "You are allowed to add tuples to tuples, so if you want to add one item, (or many), create a new tuple with the item(s), and add it to the existing tuple:"
      ],
      "metadata": {
        "id": "LWcwv_g_avLD"
      }
    },
    {
      "cell_type": "code",
      "source": [
        "thistuple = (\"apple\", \"banana\", \"cherry\")\n",
        "y = (\"orange\",)\n",
        "thistuple += y\n",
        "\n",
        "print(thistuple)"
      ],
      "metadata": {
        "colab": {
          "base_uri": "https://localhost:8080/"
        },
        "id": "_szNRix9ayVF",
        "outputId": "2d82b625-d3ff-44b5-e1a9-7df45fe7415c"
      },
      "execution_count": null,
      "outputs": [
        {
          "output_type": "stream",
          "name": "stdout",
          "text": [
            "('apple', 'banana', 'cherry', 'orange')\n"
          ]
        }
      ]
    },
    {
      "cell_type": "markdown",
      "source": [
        "**Note:** When creating a tuple with only one item, remember to include a comma after the item, otherwise it will not be identified as a tuple."
      ],
      "metadata": {
        "id": "LRaQvREGbBIG"
      }
    },
    {
      "cell_type": "markdown",
      "source": [
        "## **Remove Items**"
      ],
      "metadata": {
        "id": "pmfo0grebDw2"
      }
    },
    {
      "cell_type": "markdown",
      "source": [
        "Tuples are ***unchangeable***, so you cannot remove items from it, but you can use the same workaround as we used for changing and adding tuple items:"
      ],
      "metadata": {
        "id": "HgRzjretbHLW"
      }
    },
    {
      "cell_type": "code",
      "source": [
        "thistuple = (\"apple\", \"banana\", \"cherry\")\n",
        "y = list(thistuple)\n",
        "y.remove(\"apple\")\n",
        "thistuple = tuple(y)"
      ],
      "metadata": {
        "id": "9QqxLrF3bG6e"
      },
      "execution_count": null,
      "outputs": []
    },
    {
      "cell_type": "markdown",
      "source": [
        "Or you can **delete** the tuple completely:"
      ],
      "metadata": {
        "id": "2hU0dQKlbwQT"
      }
    },
    {
      "cell_type": "code",
      "source": [
        "thistuple = (\"apple\", \"banana\", \"cherry\")\n",
        "del thistuple\n",
        "#print(thistuple) #this will raise an error because the tuple no longer exists"
      ],
      "metadata": {
        "id": "cyTmi1ZPbxbL"
      },
      "execution_count": null,
      "outputs": []
    },
    {
      "cell_type": "markdown",
      "source": [
        "### **Unpacking a Tuple**\n",
        "When we create a tuple, we normally assign values to it. This is called \"packing\" a tuple:"
      ],
      "metadata": {
        "id": "nRujFdqscVRI"
      }
    },
    {
      "cell_type": "code",
      "source": [
        "fruits = (\"apple\", \"banana\", \"cherry\")"
      ],
      "metadata": {
        "id": "OKZW_8HrcXzA"
      },
      "execution_count": null,
      "outputs": []
    },
    {
      "cell_type": "code",
      "source": [
        "fruits = (\"apple\", \"banana\", \"cherry\")\n",
        "\n",
        "(green, yellow, red) = fruits\n",
        "\n",
        "print(green)\n",
        "print(yellow)\n",
        "print(red)"
      ],
      "metadata": {
        "colab": {
          "base_uri": "https://localhost:8080/"
        },
        "id": "BU74wFIkcaxw",
        "outputId": "9c4f031f-ecd3-40ce-f4f8-333f9e601a48"
      },
      "execution_count": null,
      "outputs": [
        {
          "output_type": "stream",
          "name": "stdout",
          "text": [
            "apple\n",
            "banana\n",
            "cherry\n"
          ]
        }
      ]
    },
    {
      "cell_type": "markdown",
      "source": [
        "#### **Using Asterisk** **( * )**\n",
        "\n",
        "If the number of variables is less than the number of values, you can add an * to the variable name and the values will be assigned to the variable as a list:"
      ],
      "metadata": {
        "id": "UA8QeKxFdPep"
      }
    },
    {
      "cell_type": "code",
      "source": [
        "fruits = (\"apple\", \"banana\", \"cherry\", \"strawberry\", \"raspberry\")\n",
        "\n",
        "(green, yellow, *red) = fruits\n",
        "\n",
        "print(green)\n",
        "print(yellow)\n",
        "print(red)"
      ],
      "metadata": {
        "colab": {
          "base_uri": "https://localhost:8080/"
        },
        "id": "LHSNBCiqdhkp",
        "outputId": "eaecc5c3-74c4-4bc5-aaf3-c8ea81dcaaec"
      },
      "execution_count": null,
      "outputs": [
        {
          "output_type": "stream",
          "name": "stdout",
          "text": [
            "apple\n",
            "banana\n",
            "['cherry', 'strawberry', 'raspberry']\n"
          ]
        }
      ]
    },
    {
      "cell_type": "markdown",
      "source": [
        "If the asterisk is added to another variable name than the last, Python will assign values to the variable until the number of values left matches the number of variables left."
      ],
      "metadata": {
        "id": "PtLuxRPSdrgY"
      }
    },
    {
      "cell_type": "code",
      "source": [
        "fruits = (\"apple\", \"mango\", \"papaya\", \"pineapple\", \"cherry\")\n",
        "\n",
        "(green, *tropic, red) = fruits\n",
        "\n",
        "print(green)\n",
        "print(tropic)\n",
        "print(red)"
      ],
      "metadata": {
        "colab": {
          "base_uri": "https://localhost:8080/"
        },
        "id": "bcN1PDmOdwTZ",
        "outputId": "6a719efc-ba08-4aaa-facc-b15cb5242d5e"
      },
      "execution_count": null,
      "outputs": [
        {
          "output_type": "stream",
          "name": "stdout",
          "text": [
            "apple\n",
            "['mango', 'papaya', 'pineapple']\n",
            "cherry\n"
          ]
        }
      ]
    },
    {
      "cell_type": "markdown",
      "source": [
        "### **Loop Tuples**"
      ],
      "metadata": {
        "id": "YND2vzW1hvUk"
      }
    },
    {
      "cell_type": "markdown",
      "source": [
        "### **Loop Through a Tuple**\n",
        "You can loop through the tuple items by using a for loop."
      ],
      "metadata": {
        "id": "fRuz389dhxrl"
      }
    },
    {
      "cell_type": "code",
      "source": [
        "thistuple = (\"apple\", \"banana\", \"cherry\")\n",
        "for x in thistuple:\n",
        "  print(x)"
      ],
      "metadata": {
        "colab": {
          "base_uri": "https://localhost:8080/"
        },
        "id": "2-XH9f-Dhzlm",
        "outputId": "5eb4731b-6d5a-4007-ab98-5f692f57e8fd"
      },
      "execution_count": null,
      "outputs": [
        {
          "output_type": "stream",
          "name": "stdout",
          "text": [
            "apple\n",
            "banana\n",
            "cherry\n"
          ]
        }
      ]
    },
    {
      "cell_type": "markdown",
      "source": [
        "### **Loop Through the Index Numbers**\n",
        "* You can also loop through the tuple items by referring to their index number.\n",
        "\n",
        "* Use the range() and len() functions to create a suitable iterable."
      ],
      "metadata": {
        "id": "mP9SENzDh2WO"
      }
    },
    {
      "cell_type": "code",
      "source": [
        "thistuple = (\"apple\", \"banana\", \"cherry\")\n",
        "for i in range(len(thistuple)):\n",
        "  print(thistuple[i])"
      ],
      "metadata": {
        "colab": {
          "base_uri": "https://localhost:8080/"
        },
        "id": "Hh7F0Fhvh5mm",
        "outputId": "08fbf54e-9d48-4f0c-bea6-5122a1f979db"
      },
      "execution_count": null,
      "outputs": [
        {
          "output_type": "stream",
          "name": "stdout",
          "text": [
            "apple\n",
            "banana\n",
            "cherry\n"
          ]
        }
      ]
    },
    {
      "cell_type": "markdown",
      "source": [
        "### **Using a While Loop**\n",
        "* You can loop through the tuple items by using a while loop.\n",
        "\n",
        "* Use the len() function to determine the length of the tuple, then start at 0 and loop your way through the tuple items by referring to their indexes.\n",
        "\n",
        "* Remember to increase the index by 1 after each iteration."
      ],
      "metadata": {
        "id": "CQANVtlKiSs1"
      }
    },
    {
      "cell_type": "code",
      "source": [
        "thistuple = (\"apple\", \"banana\", \"cherry\")\n",
        "i = 0\n",
        "while i < len(thistuple):\n",
        "  print(thistuple[i])\n",
        "  i = i + 1"
      ],
      "metadata": {
        "colab": {
          "base_uri": "https://localhost:8080/"
        },
        "id": "BNML9R7ciWrh",
        "outputId": "1e50cbec-521c-4b8f-b94c-6fbfdecbdb53"
      },
      "execution_count": null,
      "outputs": [
        {
          "output_type": "stream",
          "name": "stdout",
          "text": [
            "apple\n",
            "banana\n",
            "cherry\n"
          ]
        }
      ]
    },
    {
      "cell_type": "code",
      "source": [
        "thistuple = (\"apple\", \"banana\", \"cherry\")\n",
        "i = 0\n",
        "while i < len(thistuple):\n",
        "  print(thistuple[i])\n",
        "  i = i+1"
      ],
      "metadata": {
        "colab": {
          "base_uri": "https://localhost:8080/"
        },
        "id": "oRAY36hQicX_",
        "outputId": "8590db57-d59e-465d-c61c-0c35016ad834"
      },
      "execution_count": null,
      "outputs": [
        {
          "output_type": "stream",
          "name": "stdout",
          "text": [
            "apple\n",
            "banana\n",
            "cherry\n"
          ]
        }
      ]
    },
    {
      "cell_type": "markdown",
      "source": [
        "### **Join Two Tuples**\n",
        "\n",
        "To join two or more tuples you can use the + operator:"
      ],
      "metadata": {
        "id": "HHpr4-0dr5M-"
      }
    },
    {
      "cell_type": "code",
      "source": [
        "tuple1 = (\"a\", \"b\" , \"c\")\n",
        "tuple2 = (1, 2, 3)\n",
        "\n",
        "tuple3 = tuple1 + tuple2\n",
        "print(tuple3)"
      ],
      "metadata": {
        "colab": {
          "base_uri": "https://localhost:8080/"
        },
        "id": "bhyEYIkur8l2",
        "outputId": "768655cc-c576-46d4-e986-75c072baeadb"
      },
      "execution_count": null,
      "outputs": [
        {
          "output_type": "stream",
          "name": "stdout",
          "text": [
            "('a', 'b', 'c', 1, 2, 3)\n"
          ]
        }
      ]
    },
    {
      "cell_type": "markdown",
      "source": [
        "### **Multiply Tuples**\n",
        "If you want to multiply the content of a tuple a given number of times, you can use the * operator:"
      ],
      "metadata": {
        "id": "gxEo9CX8r_kl"
      }
    },
    {
      "cell_type": "code",
      "source": [
        "fruits = (\"apple\", \"banana\", \"cherry\")\n",
        "mytuple = fruits * 2\n",
        "\n",
        "print(mytuple)"
      ],
      "metadata": {
        "colab": {
          "base_uri": "https://localhost:8080/"
        },
        "id": "7HirsaubsBvV",
        "outputId": "dba2781b-d5ea-42a1-f006-f5d2ddec7d3b"
      },
      "execution_count": null,
      "outputs": [
        {
          "output_type": "stream",
          "name": "stdout",
          "text": [
            "('apple', 'banana', 'cherry', 'apple', 'banana', 'cherry')\n"
          ]
        }
      ]
    },
    {
      "cell_type": "markdown",
      "source": [
        "# **Set**\n",
        "* Sets are used to store multiple items in a single variable.\n",
        "\n",
        "* Set is one of 4 built-in data types in Python used to store collections of data, the other 3 are List, Tuple, and Dictionary, all with different qualities and usage.\n",
        "\n",
        "* A set is a collection which is unordered, unchangeable*, and unindexed."
      ],
      "metadata": {
        "id": "bXx1npY_snCK"
      }
    },
    {
      "cell_type": "code",
      "source": [
        "thisset = {\"apple\", \"banana\", \"cherry\"}\n",
        "print(thisset)"
      ],
      "metadata": {
        "colab": {
          "base_uri": "https://localhost:8080/"
        },
        "id": "sDBIS9x1sznb",
        "outputId": "5a672056-e701-44c9-db31-99f9211dd4f2"
      },
      "execution_count": null,
      "outputs": [
        {
          "output_type": "stream",
          "name": "stdout",
          "text": [
            "{'banana', 'apple', 'cherry'}\n"
          ]
        }
      ]
    },
    {
      "cell_type": "markdown",
      "source": [
        "**Set Items**\n",
        "* Set items are unordered, unchangeable, and do not allow duplicate values.\n",
        "\n",
        "**Unordered**\n",
        "* Unordered means that the items in a set do not have a defined order.\n",
        "\n",
        "* Set items can appear in a different order every time you use them, and cannot be referred to by index or key.\n",
        "\n",
        "**Unchangeable**\n",
        "* Set items are unchangeable, meaning that we cannot change the items after the set has been created.\n",
        "\n",
        "**Duplicates Not Allowed**\n",
        "* Sets cannot have two items with the same value."
      ],
      "metadata": {
        "id": "IX4n-IiTs4e0"
      }
    },
    {
      "cell_type": "code",
      "source": [
        "thisset1 = {\"apple\", \"banana\", \"cherry\", \"apple\"}\n",
        "\n",
        "print(thisset1)"
      ],
      "metadata": {
        "colab": {
          "base_uri": "https://localhost:8080/"
        },
        "id": "UuKUtZk3tJAN",
        "outputId": "3f25229a-d4f7-4c47-ad71-f0130f13f8ba"
      },
      "execution_count": null,
      "outputs": [
        {
          "output_type": "stream",
          "name": "stdout",
          "text": [
            "{'banana', 'apple', 'cherry'}\n"
          ]
        }
      ]
    },
    {
      "cell_type": "markdown",
      "source": [
        "* The values True and 1 are considered the same value in sets, and are treated as duplicates:"
      ],
      "metadata": {
        "id": "I_iV_RqGtZ6H"
      }
    },
    {
      "cell_type": "code",
      "source": [
        "thisset = {\"apple\", \"banana\", \"cherry\", True, 1, 2}\n",
        "\n",
        "print(thisset)"
      ],
      "metadata": {
        "colab": {
          "base_uri": "https://localhost:8080/"
        },
        "id": "2Hb1PkoNtfng",
        "outputId": "f9c43bcb-b8a5-4f28-beb8-a22f09a8688e"
      },
      "execution_count": null,
      "outputs": [
        {
          "output_type": "stream",
          "name": "stdout",
          "text": [
            "{'banana', True, 2, 'cherry', 'apple'}\n"
          ]
        }
      ]
    },
    {
      "cell_type": "markdown",
      "source": [
        "* The values False and 0 are considered the same value in sets, and are treated as duplicates"
      ],
      "metadata": {
        "id": "AfwSF9Yitx9B"
      }
    },
    {
      "cell_type": "code",
      "source": [
        "thisset = {\"apple\", \"banana\", \"cherry\", False, True, 0}\n",
        "\n",
        "print(thisset)"
      ],
      "metadata": {
        "colab": {
          "base_uri": "https://localhost:8080/"
        },
        "id": "GEpdjHnJt03p",
        "outputId": "ccacf27d-afd4-4cda-cb46-672a0e3d709d"
      },
      "execution_count": null,
      "outputs": [
        {
          "output_type": "stream",
          "name": "stdout",
          "text": [
            "{False, True, 'banana', 'cherry', 'apple'}\n"
          ]
        }
      ]
    },
    {
      "cell_type": "markdown",
      "source": [
        "### **Get the Length of a Set**\n",
        "* To determine how many items a set has, use the len() function."
      ],
      "metadata": {
        "id": "glF_0E1tt7KC"
      }
    },
    {
      "cell_type": "code",
      "source": [
        "thisset = {\"apple\", \"banana\", \"cherry\"}\n",
        "\n",
        "print(len(thisset))"
      ],
      "metadata": {
        "colab": {
          "base_uri": "https://localhost:8080/"
        },
        "id": "dWFWpQQ2t_5D",
        "outputId": "9a5466ba-ba09-47b2-a2e5-9d1f20fc482b"
      },
      "execution_count": null,
      "outputs": [
        {
          "output_type": "stream",
          "name": "stdout",
          "text": [
            "3\n"
          ]
        }
      ]
    },
    {
      "cell_type": "markdown",
      "source": [
        "### **Set Items - Data Types**\n",
        "Set items can be of any data type:"
      ],
      "metadata": {
        "id": "OS8Vprh4uCHM"
      }
    },
    {
      "cell_type": "code",
      "source": [
        "set1 = {\"apple\", \"banana\", \"cherry\"}\n",
        "set2 = {1, 5, 7, 9, 3}\n",
        "set3 = {True, False, False}\n",
        "set4 = {\"abc\", 34, True, 40, \"male\"}"
      ],
      "metadata": {
        "id": "nOO2hzVSuDis"
      },
      "execution_count": null,
      "outputs": []
    },
    {
      "cell_type": "code",
      "source": [
        "myset = {\"apple\", \"banana\", \"cherry\"}\n",
        "print(type(myset))"
      ],
      "metadata": {
        "colab": {
          "base_uri": "https://localhost:8080/"
        },
        "id": "6yYSgDxGuM5U",
        "outputId": "a065c4a7-9e23-4e49-dd17-90f95319b64e"
      },
      "execution_count": null,
      "outputs": [
        {
          "output_type": "stream",
          "name": "stdout",
          "text": [
            "<class 'set'>\n"
          ]
        }
      ]
    },
    {
      "cell_type": "markdown",
      "source": [
        "### **The set() Constructor**\n",
        "It is also possible to use the set() constructor to make a set."
      ],
      "metadata": {
        "id": "5GaKnq4BuPoN"
      }
    },
    {
      "cell_type": "code",
      "source": [
        "thisset = set((\"apple\", \"banana\", \"cherry\")) # note the double round-brackets\n",
        "print(thisset)"
      ],
      "metadata": {
        "colab": {
          "base_uri": "https://localhost:8080/"
        },
        "id": "J4tvGuOPuR4l",
        "outputId": "996d8f86-f508-42c5-f6fa-682cc3c759fe"
      },
      "execution_count": null,
      "outputs": [
        {
          "output_type": "stream",
          "name": "stdout",
          "text": [
            "{'banana', 'apple', 'cherry'}\n"
          ]
        }
      ]
    },
    {
      "cell_type": "code",
      "source": [
        "thisset = set([\"apple1\", \"banana2\", \"cherry3\"]) # note the double round-brackets\n",
        "print(thisset)"
      ],
      "metadata": {
        "colab": {
          "base_uri": "https://localhost:8080/"
        },
        "id": "wyxuK8gMuU_t",
        "outputId": "ea4afb9e-6ab8-4159-b527-793d0896b320"
      },
      "execution_count": null,
      "outputs": [
        {
          "output_type": "stream",
          "name": "stdout",
          "text": [
            "{'cherry3', 'banana2', 'apple1'}\n"
          ]
        }
      ]
    },
    {
      "cell_type": "markdown",
      "source": [
        "### **Python Collections (Arrays)**\n",
        "There are four collection data types in the Python programming language:\n",
        "\n",
        "1. List is a collection which is ordered and changeable. Allows duplicate members.\n",
        "2.Tuple is a collection which is ordered and unchangeable. Allows duplicate members.\n",
        "3. Set is a collection which is unordered, unchangeable*, and unindexed. No duplicate members.\n",
        "4. Dictionary is a collection which is ordered** and changeable. No duplicate members."
      ],
      "metadata": {
        "id": "ElmcjdlvugBu"
      }
    },
    {
      "cell_type": "markdown",
      "source": [
        "* Set items are unchangeable, but you can remove items and add new items."
      ],
      "metadata": {
        "id": "rjGp4G3Au2wm"
      }
    },
    {
      "cell_type": "markdown",
      "source": [
        "**Access Items**\n",
        "* You cannot access items in a set by referring to an index or a key.\n",
        "\n",
        "* But you can loop through the set items using a for loop, or ask if a specified value is present in a set, by using the in keyword."
      ],
      "metadata": {
        "id": "5DmI0z0du8K5"
      }
    },
    {
      "cell_type": "code",
      "source": [
        "thisset = {\"apple\", \"banana\", \"cherry\"}\n",
        "\n",
        "for x in thisset:\n",
        "  print(x)"
      ],
      "metadata": {
        "colab": {
          "base_uri": "https://localhost:8080/"
        },
        "id": "epia5dR8u2Er",
        "outputId": "58d9d2cb-d3ea-4cf9-ce09-6d7c44ae60fd"
      },
      "execution_count": null,
      "outputs": [
        {
          "output_type": "stream",
          "name": "stdout",
          "text": [
            "banana\n",
            "apple\n",
            "cherry\n"
          ]
        }
      ]
    },
    {
      "cell_type": "code",
      "source": [
        "thisset = {\"apple\", \"banana\", \"cherry\"}\n",
        "\n",
        "print(\"banana\" in thisset)"
      ],
      "metadata": {
        "colab": {
          "base_uri": "https://localhost:8080/"
        },
        "id": "TrNnMWlsvCZ0",
        "outputId": "ea1be82d-c388-40a1-89e2-a07f6cfd405d"
      },
      "execution_count": null,
      "outputs": [
        {
          "output_type": "stream",
          "name": "stdout",
          "text": [
            "True\n"
          ]
        }
      ]
    },
    {
      "cell_type": "code",
      "source": [
        "thisset = {\"apple\", \"banana\", \"cherry\"}\n",
        "\n",
        "print(\"banana\" not in thisset)"
      ],
      "metadata": {
        "colab": {
          "base_uri": "https://localhost:8080/"
        },
        "id": "PHwXGiLDvEQj",
        "outputId": "4ca54696-ecec-4647-f35c-0b2521908c8d"
      },
      "execution_count": null,
      "outputs": [
        {
          "output_type": "stream",
          "name": "stdout",
          "text": [
            "False\n"
          ]
        }
      ]
    },
    {
      "cell_type": "markdown",
      "source": [
        "### **Change Items**\n",
        "Once a set is created, you ***cannot change*** its items, but you can add new items."
      ],
      "metadata": {
        "id": "FFxPOCiVvHaD"
      }
    },
    {
      "cell_type": "markdown",
      "source": [
        "#### **Add Items**"
      ],
      "metadata": {
        "id": "fFACDBgSvKhD"
      }
    },
    {
      "cell_type": "markdown",
      "source": [
        "Once a set is created, you cannot change its items, but you can add new items."
      ],
      "metadata": {
        "id": "ZSzkYIntvaOk"
      }
    },
    {
      "cell_type": "markdown",
      "source": [
        "* To add one item to a set use the add() method."
      ],
      "metadata": {
        "id": "4WqR75ZmvefN"
      }
    },
    {
      "cell_type": "code",
      "source": [
        "thisset = {\"apple\", \"banana\", \"cherry\"}\n",
        "\n",
        "thisset.add(\"orange\")\n",
        "\n",
        "print(thisset)"
      ],
      "metadata": {
        "colab": {
          "base_uri": "https://localhost:8080/"
        },
        "id": "oSqvi1nhvbb0",
        "outputId": "ac39b4e4-d2c6-4ded-837e-4bd27a634710"
      },
      "execution_count": null,
      "outputs": [
        {
          "output_type": "stream",
          "name": "stdout",
          "text": [
            "{'banana', 'orange', 'apple', 'cherry'}\n"
          ]
        }
      ]
    },
    {
      "cell_type": "markdown",
      "source": [
        "#### **Add Sets**\n",
        "* To add items from another set into the current set, use the update() method."
      ],
      "metadata": {
        "id": "KgZ-QYm9viFt"
      }
    },
    {
      "cell_type": "code",
      "source": [
        "thisset = {\"apple\", \"banana\", \"cherry\"}\n",
        "tropical = {\"pineapple\", \"mango\", \"papaya\"}\n",
        "\n",
        "thisset.update(tropical)\n",
        "\n",
        "print(thisset)"
      ],
      "metadata": {
        "colab": {
          "base_uri": "https://localhost:8080/"
        },
        "id": "13ZJmKvevkBV",
        "outputId": "79bac9ce-7218-4ada-fe86-7ce2ac7ddc47"
      },
      "execution_count": null,
      "outputs": [
        {
          "output_type": "stream",
          "name": "stdout",
          "text": [
            "{'banana', 'papaya', 'cherry', 'pineapple', 'mango', 'apple'}\n"
          ]
        }
      ]
    },
    {
      "cell_type": "markdown",
      "source": [
        "#### **Add Any Iterable**\n",
        "* The object in the update() method does not have to be a set, it can be any iterable object (tuples, lists, dictionaries etc.)."
      ],
      "metadata": {
        "id": "iwQHRdkDx0KM"
      }
    },
    {
      "cell_type": "code",
      "source": [
        "thisset = {\"apple\", \"banana\", \"cherry\"}\n",
        "mylist = [\"kiwi\", \"orange\"]\n",
        "\n",
        "thisset.update(mylist)\n",
        "\n",
        "print(thisset)"
      ],
      "metadata": {
        "colab": {
          "base_uri": "https://localhost:8080/"
        },
        "id": "Om_OkdQ3x2yu",
        "outputId": "28103d49-0d6d-4269-85b2-5b9b3d6ce1b9"
      },
      "execution_count": null,
      "outputs": [
        {
          "output_type": "stream",
          "name": "stdout",
          "text": [
            "{'kiwi', 'cherry', 'apple', 'banana', 'orange'}\n"
          ]
        }
      ]
    },
    {
      "cell_type": "markdown",
      "source": [
        "#### **Remove Set Items**"
      ],
      "metadata": {
        "id": "4mMinLN1y3gj"
      }
    },
    {
      "cell_type": "markdown",
      "source": [
        "To remove an item in a set, use the remove(), or the discard() method."
      ],
      "metadata": {
        "id": "FVY7Z6X4y6Yz"
      }
    },
    {
      "cell_type": "code",
      "source": [
        "thisset = {\"apple\", \"banana\", \"cherry\"}\n",
        "\n",
        "thisset.remove(\"banana\")\n",
        "\n",
        "print(thisset)"
      ],
      "metadata": {
        "colab": {
          "base_uri": "https://localhost:8080/"
        },
        "id": "Tu_F7c0Ny8Cc",
        "outputId": "2becd19b-5437-4ac0-9bc0-c0bd836fa8e3"
      },
      "execution_count": null,
      "outputs": [
        {
          "output_type": "stream",
          "name": "stdout",
          "text": [
            "{'apple', 'cherry'}\n"
          ]
        }
      ]
    },
    {
      "cell_type": "markdown",
      "source": [
        "Remove \"banana\" by using the discard() method:"
      ],
      "metadata": {
        "id": "CGTuPgEczK85"
      }
    },
    {
      "cell_type": "code",
      "source": [
        "thisset = {\"apple\", \"banana\", \"cherry\"}\n",
        "\n",
        "thisset.discard(\"banana\")\n",
        "\n",
        "print(thisset)"
      ],
      "metadata": {
        "colab": {
          "base_uri": "https://localhost:8080/"
        },
        "id": "4vAgQ90ozLad",
        "outputId": "8506b080-4944-4160-ad6c-52acf01bc5f2"
      },
      "execution_count": null,
      "outputs": [
        {
          "output_type": "stream",
          "name": "stdout",
          "text": [
            "{'apple', 'cherry'}\n"
          ]
        }
      ]
    },
    {
      "cell_type": "markdown",
      "source": [
        "* You can also use the pop() method to remove an item, but this method will remove a random item, so you cannot be sure what item that gets removed.\n",
        "\n",
        "* The return value of the pop() method is the removed item."
      ],
      "metadata": {
        "id": "I6ZhU6JzzTU_"
      }
    },
    {
      "cell_type": "code",
      "source": [
        "thisset = {\"apple\", \"banana\", \"cherry\"}\n",
        "\n",
        "x = thisset.pop()\n",
        "\n",
        "print(x)\n",
        "\n",
        "print(thisset)"
      ],
      "metadata": {
        "colab": {
          "base_uri": "https://localhost:8080/"
        },
        "id": "SCy_No00zSHf",
        "outputId": "69c7849b-0e36-4e4e-f40e-7fb459b61178"
      },
      "execution_count": null,
      "outputs": [
        {
          "output_type": "stream",
          "name": "stdout",
          "text": [
            "banana\n",
            "{'apple', 'cherry'}\n"
          ]
        }
      ]
    },
    {
      "cell_type": "markdown",
      "source": [
        "The clear() method empties the set:"
      ],
      "metadata": {
        "id": "-ezBs1eGzlUQ"
      }
    },
    {
      "cell_type": "code",
      "source": [
        "thisset = {\"apple\", \"banana\", \"cherry\"}\n",
        "\n",
        "thisset.clear()\n",
        "\n",
        "print(thisset)"
      ],
      "metadata": {
        "colab": {
          "base_uri": "https://localhost:8080/"
        },
        "id": "y6X84-iezlH2",
        "outputId": "946adfc0-c3cb-4e3e-d6f2-1a1f2cf0d5d4"
      },
      "execution_count": null,
      "outputs": [
        {
          "output_type": "stream",
          "name": "stdout",
          "text": [
            "set()\n"
          ]
        }
      ]
    },
    {
      "cell_type": "markdown",
      "source": [
        "The del keyword will delete the set completely:"
      ],
      "metadata": {
        "id": "qAY991iDzoUP"
      }
    },
    {
      "cell_type": "code",
      "source": [
        "thisset = {\"apple\", \"banana\", \"cherry\"}\n",
        "\n",
        "del thisset\n",
        "\n",
        "# print(thisset)"
      ],
      "metadata": {
        "id": "gQ0SPsr_zorI"
      },
      "execution_count": null,
      "outputs": []
    },
    {
      "cell_type": "markdown",
      "source": [
        "## **Loop Sets**"
      ],
      "metadata": {
        "id": "uqSDbDFQ0AmC"
      }
    },
    {
      "cell_type": "markdown",
      "source": [
        "You can loop through the set items by using a for loop:"
      ],
      "metadata": {
        "id": "I3fshTUr0DDb"
      }
    },
    {
      "cell_type": "code",
      "source": [
        "thisset = {\"apple\", \"banana\", \"cherry\"}\n",
        "\n",
        "for x in thisset:\n",
        "  print(x)"
      ],
      "metadata": {
        "colab": {
          "base_uri": "https://localhost:8080/"
        },
        "id": "YXf-6Ng10EZ8",
        "outputId": "24c2a44a-7e60-4f4b-e410-0024b92c0cce"
      },
      "execution_count": null,
      "outputs": [
        {
          "output_type": "stream",
          "name": "stdout",
          "text": [
            "banana\n",
            "apple\n",
            "cherry\n"
          ]
        }
      ]
    },
    {
      "cell_type": "markdown",
      "source": [
        "### **Join Sets**\n",
        "There are several ways to join two or more sets in Python.\n",
        "\n",
        "* The union() and update() methods joins all items from both sets.\n",
        "\n",
        "* The intersection() method keeps ONLY the duplicates.\n",
        "\n",
        "* The difference() method keeps the items from the first set that are not in the other set(s).\n",
        "\n",
        "* The symmetric_difference() method keeps all items EXCEPT the duplicates."
      ],
      "metadata": {
        "id": "Rwff-I0s0UUm"
      }
    },
    {
      "cell_type": "markdown",
      "source": [
        "### **Union**\n",
        "The union() method returns a new set with all items from both sets."
      ],
      "metadata": {
        "id": "MzWrkZfn0aye"
      }
    },
    {
      "cell_type": "code",
      "source": [
        "set1 = {\"a\", \"b\", \"c\"}\n",
        "set2 = {1, 2, 3}\n",
        "\n",
        "set3 = set1.union(set2)\n",
        "print(set3)"
      ],
      "metadata": {
        "id": "9qvOAQYd0dm2",
        "outputId": "a516aed8-21d9-433e-f0f8-0239bd91de82",
        "colab": {
          "base_uri": "https://localhost:8080/"
        }
      },
      "execution_count": null,
      "outputs": [
        {
          "output_type": "stream",
          "name": "stdout",
          "text": [
            "{'a', 1, 2, 3, 'c', 'b'}\n"
          ]
        }
      ]
    },
    {
      "cell_type": "markdown",
      "source": [
        "# **LOOPS**"
      ],
      "metadata": {
        "id": "LwEemNNKn3tD"
      }
    },
    {
      "cell_type": "markdown",
      "source": [
        "Python has two primitive loop commands:\n",
        "\n",
        "**1. while loops :** With the while loop we can execute a set of statements as long as a condition is true.\n",
        "\n",
        "**2. for loops :** A for loop is used for iterating over a sequence (that is either a list, a tuple, a dictionary, a set, or a string).\n",
        "\n"
      ],
      "metadata": {
        "id": "u9qhajrvoMAx"
      }
    },
    {
      "cell_type": "markdown",
      "source": [
        "This for loop iterates through numbers from 1 to 5 using the range() function and prints each number."
      ],
      "metadata": {
        "id": "T0Ba4fdzpXFH"
      }
    },
    {
      "cell_type": "code",
      "source": [
        "# Print numbers from 1 to 5\n",
        "for i in range(1, 6):\n",
        "    print(i)"
      ],
      "metadata": {
        "colab": {
          "base_uri": "https://localhost:8080/"
        },
        "id": "kOJ_4OLgpWVq",
        "outputId": "edcd4306-2493-461c-e0fa-1e2ea495a544"
      },
      "execution_count": null,
      "outputs": [
        {
          "output_type": "stream",
          "name": "stdout",
          "text": [
            "1\n",
            "2\n",
            "3\n",
            "4\n",
            "5\n"
          ]
        }
      ]
    },
    {
      "cell_type": "markdown",
      "source": [
        "while loop does the same, printing numbers from 1 to 5, but it continues looping as long as the condition i <= 5 is True, and i is incremented after each iteration."
      ],
      "metadata": {
        "id": "zCK2xBJ-pczi"
      }
    },
    {
      "cell_type": "code",
      "source": [
        "# Print numbers from 1 to 5\n",
        "i = 1\n",
        "while i <= 5:\n",
        "    print(i)\n",
        "    i += 1"
      ],
      "metadata": {
        "colab": {
          "base_uri": "https://localhost:8080/"
        },
        "id": "rPIkdmebpezL",
        "outputId": "d6824ee6-90a3-4220-c6f4-db08fc33f793"
      },
      "execution_count": null,
      "outputs": [
        {
          "output_type": "stream",
          "name": "stdout",
          "text": [
            "1\n",
            "2\n",
            "3\n",
            "4\n",
            "5\n"
          ]
        }
      ]
    },
    {
      "cell_type": "markdown",
      "source": [
        "**Sum of Even Numbers from 1 to 10**"
      ],
      "metadata": {
        "id": "YdoeaB9GptXj"
      }
    },
    {
      "cell_type": "code",
      "source": [
        "for i in range(2,11,2):\n",
        "  print(i)"
      ],
      "metadata": {
        "colab": {
          "base_uri": "https://localhost:8080/"
        },
        "id": "ImTto5gupuSv",
        "outputId": "52daee01-0beb-44f1-c3bf-bf5d1414280d"
      },
      "execution_count": null,
      "outputs": [
        {
          "output_type": "stream",
          "name": "stdout",
          "text": [
            "2\n",
            "4\n",
            "6\n",
            "8\n",
            "10\n"
          ]
        }
      ]
    },
    {
      "cell_type": "code",
      "source": [
        "# Initialize the sum\n",
        "sum_of_evens = 0\n",
        "\n",
        "# Loop through numbers 1 to 10\n",
        "for i in range(1, 11):\n",
        "    # Check if the number is even\n",
        "    if i % 2 == 0:\n",
        "        sum_of_evens += i #sum_of_evens = sum_of_evens + i\n",
        "\n",
        "#sum_of_evens gets updated in each iteration when an even number is found.\n",
        "#For example, when i = 2, sum_of_evens becomes 2; when i = 4, it becomes 6 (2 + 4), and so on.\n",
        "\n",
        "# Print the sum of even numbers\n",
        "print(\"Sum of even numbers from 1 to 10 is:\", sum_of_evens)"
      ],
      "metadata": {
        "colab": {
          "base_uri": "https://localhost:8080/"
        },
        "id": "nfRonQwSp9Nr",
        "outputId": "60177b8d-3a77-4163-827a-fe89378eeb82"
      },
      "execution_count": null,
      "outputs": [
        {
          "output_type": "stream",
          "name": "stdout",
          "text": [
            "Sum of even numbers from 1 to 10 is: 30\n"
          ]
        }
      ]
    },
    {
      "cell_type": "markdown",
      "source": [
        "**Step-by-Step Execution:**\n",
        "\n",
        "Iteration 1: i = 1 → Not even → sum_of_evens remains 0.\n",
        "\n",
        "Iteration 2: i = 2 → Even → sum_of_evens = 0 + 2 = 2.\n",
        "\n",
        "Iteration 3: i = 3 → Not even → sum_of_evens remains 2.\n",
        "\n",
        "Iteration 4: i = 4 → Even → sum_of_evens = 2 + 4 = 6.\n",
        "\n",
        "Iteration 5: i = 5 → Not even → sum_of_evens remains 6.\n",
        "\n",
        "Iteration 6: i = 6 → Even → sum_of_evens = 6 + 6 = 12.\n",
        "\n",
        "Iteration 7: i = 7 → Not even → sum_of_evens remains 12.\n",
        "\n",
        "Iteration 8: i = 8 → Even → sum_of_evens = 12 + 8 = 20.\n",
        "\n",
        "Iteration 9: i = 9 → Not even → sum_of_evens remains 20.\n",
        "\n",
        "Iteration 10: i = 10 → Even → sum_of_evens = 20 + 10 = 30."
      ],
      "metadata": {
        "id": "spv2xvCjr2qm"
      }
    },
    {
      "cell_type": "code",
      "source": [
        "sum = 0\n",
        "for i in range(1,11):\n",
        "  if i%2==0:\n",
        "    sum = sum + i\n",
        "    print(sum)"
      ],
      "metadata": {
        "colab": {
          "base_uri": "https://localhost:8080/"
        },
        "id": "dv7uvn7Aqlg3",
        "outputId": "7deecbe9-9902-471c-bb4c-007c47cb59c1"
      },
      "execution_count": null,
      "outputs": [
        {
          "output_type": "stream",
          "name": "stdout",
          "text": [
            "2\n",
            "6\n",
            "12\n",
            "20\n",
            "30\n"
          ]
        }
      ]
    },
    {
      "cell_type": "code",
      "source": [
        "i = 1\n",
        "while i < 6:\n",
        "  print(i)\n",
        "  i += 1"
      ],
      "metadata": {
        "colab": {
          "base_uri": "https://localhost:8080/"
        },
        "id": "JQLODHeTsLZi",
        "outputId": "10367650-1021-4305-cf4f-820468f921c7"
      },
      "execution_count": null,
      "outputs": [
        {
          "output_type": "stream",
          "name": "stdout",
          "text": [
            "1\n",
            "2\n",
            "3\n",
            "4\n",
            "5\n"
          ]
        }
      ]
    },
    {
      "cell_type": "markdown",
      "source": [
        "The variable i is initialized to 1. This will be the starting point for the while loop and will control how many times the loop runs."
      ],
      "metadata": {
        "id": "UDm6AOJ2sdvE"
      }
    },
    {
      "cell_type": "code",
      "source": [
        "i = 1"
      ],
      "metadata": {
        "id": "2Qhn8NkbsZ30"
      },
      "execution_count": null,
      "outputs": []
    },
    {
      "cell_type": "markdown",
      "source": [
        "This while loop will continue to execute as long as the condition i < 6 is True. In other words, the loop will run while i is less than 6. Once i becomes 6 or greater, the loop will stop."
      ],
      "metadata": {
        "id": "Lkl8T1uGsir2"
      }
    },
    {
      "cell_type": "code",
      "source": [
        "while i < 6:\n",
        "  print(i)\n",
        "  i += 1"
      ],
      "metadata": {
        "colab": {
          "base_uri": "https://localhost:8080/"
        },
        "id": "Yb3q3dIRshuZ",
        "outputId": "079b6622-0d0c-4005-8f98-dc7bc1a03a14"
      },
      "execution_count": null,
      "outputs": [
        {
          "output_type": "stream",
          "name": "stdout",
          "text": [
            "1\n",
            "2\n",
            "3\n",
            "4\n",
            "5\n"
          ]
        }
      ]
    },
    {
      "cell_type": "markdown",
      "source": [
        "### **Break**\n",
        "With the break statement we can stop the loop even if the while condition is true:"
      ],
      "metadata": {
        "id": "S2ipxTAHszig"
      }
    },
    {
      "cell_type": "code",
      "source": [
        "i = 1\n",
        "while i < 6:\n",
        "  print(i)\n",
        "  if i == 3:\n",
        "    break\n",
        "  i += 1"
      ],
      "metadata": {
        "colab": {
          "base_uri": "https://localhost:8080/"
        },
        "id": "pwj8pOGks4CX",
        "outputId": "6f393322-3e85-4c82-ba54-c679d9cf1a9c"
      },
      "execution_count": null,
      "outputs": [
        {
          "output_type": "stream",
          "name": "stdout",
          "text": [
            "1\n",
            "2\n",
            "3\n"
          ]
        }
      ]
    },
    {
      "cell_type": "code",
      "source": [
        "i= 1\n",
        "while i <10:\n",
        "  if i == 6:\n",
        "    break\n",
        "  print(i)\n",
        "  i = i+1"
      ],
      "metadata": {
        "colab": {
          "base_uri": "https://localhost:8080/"
        },
        "id": "Kz5Rf-PhtaZr",
        "outputId": "3f88d748-b9e2-4ef4-c7cc-c1ffefc22902"
      },
      "execution_count": null,
      "outputs": [
        {
          "output_type": "stream",
          "name": "stdout",
          "text": [
            "1\n",
            "2\n",
            "3\n",
            "4\n",
            "5\n"
          ]
        }
      ]
    },
    {
      "cell_type": "markdown",
      "source": [
        "## **The continue Statement**\n",
        "\n",
        "With the continue statement we can stop the current iteration, and continue with the next:"
      ],
      "metadata": {
        "id": "5B5FWCBot-QH"
      }
    },
    {
      "cell_type": "markdown",
      "source": [
        "Continue to the next iteration if i is 3:"
      ],
      "metadata": {
        "id": "9nKJnLHhuDJY"
      }
    },
    {
      "cell_type": "code",
      "source": [
        "i = 0\n",
        "while i < 6:\n",
        "  i += 1\n",
        "  if i == 3:\n",
        "    continue\n",
        "  print(i)"
      ],
      "metadata": {
        "colab": {
          "base_uri": "https://localhost:8080/"
        },
        "id": "cJctK70-t_8m",
        "outputId": "478913a8-b1bc-45b5-a5d1-17ba5b773fd1"
      },
      "execution_count": null,
      "outputs": [
        {
          "output_type": "stream",
          "name": "stdout",
          "text": [
            "1\n",
            "2\n",
            "4\n",
            "5\n",
            "6\n"
          ]
        }
      ]
    },
    {
      "cell_type": "code",
      "source": [
        "i = 0\n",
        "while i <15:\n",
        "  i = 1+i\n",
        "  if i ==13:\n",
        "    continue\n",
        "  print(i)"
      ],
      "metadata": {
        "colab": {
          "base_uri": "https://localhost:8080/"
        },
        "id": "5OVkVd6mundr",
        "outputId": "6478a31d-4a7b-49aa-8d00-91f99fdbeb03"
      },
      "execution_count": null,
      "outputs": [
        {
          "output_type": "stream",
          "name": "stdout",
          "text": [
            "1\n",
            "2\n",
            "3\n",
            "4\n",
            "5\n",
            "6\n",
            "7\n",
            "8\n",
            "9\n",
            "10\n",
            "11\n",
            "12\n",
            "14\n",
            "15\n"
          ]
        }
      ]
    },
    {
      "cell_type": "code",
      "source": [
        "i = 0\n",
        "\n",
        "while i < 6:\n",
        "    i += 1  # Increment i by 1\n",
        "    print(i)  # Print the current value of i\n",
        "else:\n",
        "    print(\"Loop completed without interruption.\")"
      ],
      "metadata": {
        "colab": {
          "base_uri": "https://localhost:8080/"
        },
        "id": "_haiLwQB3_AH",
        "outputId": "8b42857d-8f8d-4896-cf33-ce6b0bd320e9"
      },
      "execution_count": null,
      "outputs": [
        {
          "output_type": "stream",
          "name": "stdout",
          "text": [
            "1\n",
            "2\n",
            "3\n",
            "4\n",
            "5\n",
            "6\n",
            "Loop completed without interruption.\n"
          ]
        }
      ]
    },
    {
      "cell_type": "markdown",
      "source": [
        "## **For Loops**\n",
        "* A for loop is used for iterating over a sequence (that is either a list, a tuple, a dictionary, a set, or a string).\n",
        "\n",
        "* This is less like the for keyword in other programming languages, and works more like an iterator method as found in other object-orientated programming languages. With the for loop we can execute a set of statements, once for each item in a list, tuple, set etc."
      ],
      "metadata": {
        "id": "5cmHk_eY4g_D"
      }
    },
    {
      "cell_type": "code",
      "source": [
        "fruits = [\"apple\", \"banana\", \"cherry\"]\n",
        "for x in fruits:\n",
        "  print(x)"
      ],
      "metadata": {
        "colab": {
          "base_uri": "https://localhost:8080/"
        },
        "id": "ZZFlI7pA5KoW",
        "outputId": "1a7f7bd0-ea84-4fad-cf79-c5a79bf0b127"
      },
      "execution_count": null,
      "outputs": [
        {
          "output_type": "stream",
          "name": "stdout",
          "text": [
            "apple\n",
            "banana\n",
            "cherry\n"
          ]
        }
      ]
    },
    {
      "cell_type": "markdown",
      "source": [
        "The for loop does not require an indexing variable to set beforehand."
      ],
      "metadata": {
        "id": "2sF8Kw-r5cxI"
      }
    },
    {
      "cell_type": "markdown",
      "source": [
        "### **Looping Through a String**\n",
        "Even strings are iterable objects, they contain a sequence of characters:"
      ],
      "metadata": {
        "id": "lv-eupiy5fSp"
      }
    },
    {
      "cell_type": "code",
      "source": [
        "for x in \"banana\":\n",
        "  print(x)"
      ],
      "metadata": {
        "colab": {
          "base_uri": "https://localhost:8080/"
        },
        "id": "lZ_F_sJe5dN-",
        "outputId": "fa09edab-a247-4eed-863d-fdc0bab8663e"
      },
      "execution_count": null,
      "outputs": [
        {
          "output_type": "stream",
          "name": "stdout",
          "text": [
            "b\n",
            "a\n",
            "n\n",
            "a\n",
            "n\n",
            "a\n"
          ]
        }
      ]
    },
    {
      "cell_type": "markdown",
      "source": [
        "### **The break Statement**\n",
        "With the break statement we can stop the loop before it has looped through all the items:"
      ],
      "metadata": {
        "id": "ptM5giI75l6x"
      }
    },
    {
      "cell_type": "code",
      "source": [
        "fruits = [\"apple\", \"banana\", \"cherry\"]\n",
        "for x in fruits:\n",
        "  print(x)\n",
        "  if x == \"banana\":\n",
        "    break"
      ],
      "metadata": {
        "colab": {
          "base_uri": "https://localhost:8080/"
        },
        "id": "EgNAqsvc5oGR",
        "outputId": "39f2b540-b0a7-435a-9308-230c3a17fc7f"
      },
      "execution_count": null,
      "outputs": [
        {
          "output_type": "stream",
          "name": "stdout",
          "text": [
            "apple\n",
            "banana\n"
          ]
        }
      ]
    },
    {
      "cell_type": "markdown",
      "source": [
        "Exit the loop when x is \"banana\", but this time the break comes before the print:"
      ],
      "metadata": {
        "id": "DC1xqOIB57p7"
      }
    },
    {
      "cell_type": "code",
      "source": [
        "fruits = [\"apple\", \"banana\", \"cherry\"]\n",
        "for x in fruits:\n",
        "  if x == \"banana\":\n",
        "    break\n",
        "  print(x)"
      ],
      "metadata": {
        "colab": {
          "base_uri": "https://localhost:8080/"
        },
        "id": "wDbKnadJ59nw",
        "outputId": "388a9c27-482d-43bb-a254-16802b6a78d7"
      },
      "execution_count": null,
      "outputs": [
        {
          "output_type": "stream",
          "name": "stdout",
          "text": [
            "apple\n"
          ]
        }
      ]
    },
    {
      "cell_type": "code",
      "source": [
        "fruits = [\"sachin\", \"ramesh\",\"rohan\"]\n",
        "for x in fruits:\n",
        "  if x == \"ramesh\":\n",
        "    break\n",
        "  print(x)"
      ],
      "metadata": {
        "colab": {
          "base_uri": "https://localhost:8080/"
        },
        "id": "3AFkyoun7Det",
        "outputId": "818b3b14-bdf8-4997-f9ec-c30bd5e8cb6d"
      },
      "execution_count": null,
      "outputs": [
        {
          "output_type": "stream",
          "name": "stdout",
          "text": [
            "sachin\n"
          ]
        }
      ]
    },
    {
      "cell_type": "markdown",
      "source": [
        "### **The continue Statement**\n",
        "With the continue statement we can stop the current iteration of the loop, and continue with the next:"
      ],
      "metadata": {
        "id": "dAV3ls7z6JmV"
      }
    },
    {
      "cell_type": "code",
      "source": [
        "fruits = [\"apple\", \"banana\", \"cherry\"]\n",
        "for x in fruits:\n",
        "  if x == \"banana\":\n",
        "    continue\n",
        "  print(x)"
      ],
      "metadata": {
        "colab": {
          "base_uri": "https://localhost:8080/"
        },
        "id": "J4oqjT7G6MFV",
        "outputId": "9138024c-2e91-4beb-b9c2-49fa82f63cd6"
      },
      "execution_count": null,
      "outputs": [
        {
          "output_type": "stream",
          "name": "stdout",
          "text": [
            "apple\n",
            "cherry\n"
          ]
        }
      ]
    },
    {
      "cell_type": "code",
      "source": [
        "fruits = [\"sachin\", \"ramesh\",\"rohan\"]\n",
        "for x in fruits:\n",
        "  if x == \"ramesh\":\n",
        "    continue\n",
        "  print(x)"
      ],
      "metadata": {
        "colab": {
          "base_uri": "https://localhost:8080/"
        },
        "id": "v1wwdQDR7Z_c",
        "outputId": "626af6f8-6de5-4bd7-b78c-ad5e1b6b9c9e"
      },
      "execution_count": null,
      "outputs": [
        {
          "output_type": "stream",
          "name": "stdout",
          "text": [
            "sachin\n",
            "rohan\n"
          ]
        }
      ]
    },
    {
      "cell_type": "markdown",
      "source": [
        "### **The range() Function**\n",
        "* To loop through a set of code a specified number of times, we can use the range() function,\n",
        "* The range() function returns a sequence of numbers, starting from 0 by default, and increments by 1 (by default), and ends at a specified number."
      ],
      "metadata": {
        "id": "gW0mthZW7h15"
      }
    },
    {
      "cell_type": "code",
      "source": [
        "for x in range(6):\n",
        "  print(x)"
      ],
      "metadata": {
        "colab": {
          "base_uri": "https://localhost:8080/"
        },
        "id": "1IhXOCqC7ms2",
        "outputId": "9760bb40-7d92-4d63-d7a4-c561381396bf"
      },
      "execution_count": null,
      "outputs": [
        {
          "output_type": "stream",
          "name": "stdout",
          "text": [
            "0\n",
            "1\n",
            "2\n",
            "3\n",
            "4\n",
            "5\n"
          ]
        }
      ]
    },
    {
      "cell_type": "markdown",
      "source": [
        "The range() function defaults to 0 as a starting value, however it is possible to specify the starting value by adding a parameter: range(2, 6), which means values from 2 to 6 (but not including 6):"
      ],
      "metadata": {
        "id": "senqf_Zf7qa4"
      }
    },
    {
      "cell_type": "code",
      "source": [
        "for x in range(2, 6):\n",
        "  print(x)"
      ],
      "metadata": {
        "colab": {
          "base_uri": "https://localhost:8080/"
        },
        "id": "UMHB87ii7qPG",
        "outputId": "be5a6895-500b-4f56-9b16-8fc00f862d93"
      },
      "execution_count": null,
      "outputs": [
        {
          "output_type": "stream",
          "name": "stdout",
          "text": [
            "2\n",
            "3\n",
            "4\n",
            "5\n"
          ]
        }
      ]
    },
    {
      "cell_type": "markdown",
      "source": [
        "The range() function defaults to increment the sequence by 1, however it is possible to specify the increment value by adding a third parameter: range(2, 30, 3):"
      ],
      "metadata": {
        "id": "N6V2rJbK7uv2"
      }
    },
    {
      "cell_type": "code",
      "source": [
        "for x in range(2, 30, 3):\n",
        "  print(x)"
      ],
      "metadata": {
        "colab": {
          "base_uri": "https://localhost:8080/"
        },
        "id": "lanCSFl87vze",
        "outputId": "596059ef-52e4-4860-d636-9781e2776765"
      },
      "execution_count": null,
      "outputs": [
        {
          "output_type": "stream",
          "name": "stdout",
          "text": [
            "2\n",
            "5\n",
            "8\n",
            "11\n",
            "14\n",
            "17\n",
            "20\n",
            "23\n",
            "26\n",
            "29\n"
          ]
        }
      ]
    },
    {
      "cell_type": "markdown",
      "source": [
        "### **Else in For Loop**\n",
        "The else keyword in a for loop specifies a block of code to be executed when the loop is finished:"
      ],
      "metadata": {
        "id": "xvIdqJ118hzs"
      }
    },
    {
      "cell_type": "markdown",
      "source": [
        "Print all numbers from 0 to 5, and print a message when the loop has ended:"
      ],
      "metadata": {
        "id": "qggZ2jCg8mYV"
      }
    },
    {
      "cell_type": "code",
      "source": [
        "for x in range(6):\n",
        "  print(x)\n",
        "else:\n",
        "  print(\"Finally finished!\")"
      ],
      "metadata": {
        "colab": {
          "base_uri": "https://localhost:8080/"
        },
        "id": "u0-sUjeo8jZ0",
        "outputId": "e67b5090-df5b-484c-902c-b03633a2ac78"
      },
      "execution_count": null,
      "outputs": [
        {
          "output_type": "stream",
          "name": "stdout",
          "text": [
            "0\n",
            "1\n",
            "2\n",
            "3\n",
            "4\n",
            "5\n",
            "Finally finished!\n"
          ]
        }
      ]
    },
    {
      "cell_type": "markdown",
      "source": [
        "The else block will NOT be executed if the loop is stopped by a **break** statement."
      ],
      "metadata": {
        "id": "f6inH20d8uce"
      }
    },
    {
      "cell_type": "code",
      "source": [
        "for x in range(6):\n",
        "  if x == 3:\n",
        "    break\n",
        "  print(x)\n",
        "else:\n",
        "  print(\"Finally finished!\")"
      ],
      "metadata": {
        "colab": {
          "base_uri": "https://localhost:8080/"
        },
        "id": "ok-Cs5jM8wEf",
        "outputId": "551199b0-584a-47eb-de0a-790400701f31"
      },
      "execution_count": null,
      "outputs": [
        {
          "output_type": "stream",
          "name": "stdout",
          "text": [
            "0\n",
            "1\n",
            "2\n"
          ]
        }
      ]
    },
    {
      "cell_type": "markdown",
      "source": [
        "### **Nested Loops**\n",
        "* A nested loop is a loop inside a loop.\n",
        "\n",
        "* The \"inner loop\" will be executed one time for each iteration of the \"outer loop\":"
      ],
      "metadata": {
        "id": "t_knuSTg8_Yp"
      }
    },
    {
      "cell_type": "code",
      "source": [
        "adj = [\"red\", \"big\", \"tasty\"]\n",
        "fruits = [\"apple\", \"banana\", \"cherry\"]\n",
        "\n",
        "for x in adj:\n",
        "  for y in fruits:\n",
        "    print(x, y)"
      ],
      "metadata": {
        "colab": {
          "base_uri": "https://localhost:8080/"
        },
        "id": "VM2RZGS09CjH",
        "outputId": "d18fbb80-1159-41c5-9209-96eea02dbf52"
      },
      "execution_count": null,
      "outputs": [
        {
          "output_type": "stream",
          "name": "stdout",
          "text": [
            "red apple\n",
            "red banana\n",
            "red cherry\n",
            "big apple\n",
            "big banana\n",
            "big cherry\n",
            "tasty apple\n",
            "tasty banana\n",
            "tasty cherry\n"
          ]
        }
      ]
    },
    {
      "cell_type": "code",
      "source": [
        "adj = [\"red\", \"big\", \"tasty\"]\n",
        "fruits = [\"apple\", \"banana\", \"cherry\"]\n",
        "\n",
        "for x in adj:\n",
        "  for y in fruits:\n",
        "    print(2*x+\" \"+ 2*y)"
      ],
      "metadata": {
        "colab": {
          "base_uri": "https://localhost:8080/"
        },
        "id": "VgBEZ4Ur-1I1",
        "outputId": "68731f70-fef6-4c98-b294-3ef3279553af"
      },
      "execution_count": null,
      "outputs": [
        {
          "output_type": "stream",
          "name": "stdout",
          "text": [
            "redred appleapple\n",
            "redred bananabanana\n",
            "redred cherrycherry\n",
            "bigbig appleapple\n",
            "bigbig bananabanana\n",
            "bigbig cherrycherry\n",
            "tastytasty appleapple\n",
            "tastytasty bananabanana\n",
            "tastytasty cherrycherry\n"
          ]
        }
      ]
    },
    {
      "cell_type": "markdown",
      "source": [
        "### **The pass Statement**\n",
        "for loops cannot be empty, but if you for some reason have a for loop with no content, put in the pass statement to avoid getting an error."
      ],
      "metadata": {
        "id": "cb5HA8yp_BKb"
      }
    },
    {
      "cell_type": "code",
      "source": [
        "for x in [0, 1, 2]:\n",
        "  pass"
      ],
      "metadata": {
        "id": "EGSbvB38_DGl"
      },
      "execution_count": null,
      "outputs": []
    },
    {
      "cell_type": "markdown",
      "source": [
        "## **Python Functions**"
      ],
      "metadata": {
        "id": "W9CFp0pyCbEy"
      }
    },
    {
      "cell_type": "markdown",
      "source": [
        "* A function is a block of code which only runs when it is called.\n",
        "\n",
        "* You can pass data, known as parameters, into a function.\n",
        "\n",
        "* A function can return data as a result."
      ],
      "metadata": {
        "id": "ECKHgF4RCeV1"
      }
    },
    {
      "cell_type": "markdown",
      "source": [
        "### **Creating a Function**\n",
        "In Python a function is defined using the def keyword:"
      ],
      "metadata": {
        "id": "mQ-WpbQVCjcV"
      }
    },
    {
      "cell_type": "code",
      "source": [
        "def my_function():\n",
        "  print(\"Hello from a function\")"
      ],
      "metadata": {
        "id": "0TwENXs7CcPD"
      },
      "execution_count": null,
      "outputs": []
    },
    {
      "cell_type": "code",
      "source": [
        "my_function()"
      ],
      "metadata": {
        "colab": {
          "base_uri": "https://localhost:8080/"
        },
        "id": "2iq3Pp70Cnzt",
        "outputId": "ae455cdd-6d5a-446d-de29-5ca5d7dd4056"
      },
      "execution_count": null,
      "outputs": [
        {
          "output_type": "stream",
          "name": "stdout",
          "text": [
            "Hello from a function\n"
          ]
        }
      ]
    },
    {
      "cell_type": "markdown",
      "source": [
        "### **Arguments**\n",
        "* Information can be passed into functions as arguments.\n",
        "\n",
        "* Arguments are specified after the function name, inside the parentheses. You can add as many arguments as you want, just separate them with a comma.\n",
        "\n",
        "* The following example has a function with one argument (fname). When the function is called, we pass along a first name, which is used inside the function to print the full name:"
      ],
      "metadata": {
        "id": "kL7mpi41Cp41"
      }
    },
    {
      "cell_type": "code",
      "source": [
        "def my_function(fname):\n",
        "  print(fname + \" Refsnes\")"
      ],
      "metadata": {
        "id": "1p5TsFSMC5vm"
      },
      "execution_count": null,
      "outputs": []
    },
    {
      "cell_type": "code",
      "source": [
        "my_function(\"Emil\")\n",
        "my_function(\"Tobias\")\n",
        "my_function(\"Linus\")"
      ],
      "metadata": {
        "colab": {
          "base_uri": "https://localhost:8080/"
        },
        "id": "joVxmh4nC9ky",
        "outputId": "21b03fa3-9d82-4fbc-ccdb-d74d0d3de18e"
      },
      "execution_count": null,
      "outputs": [
        {
          "output_type": "stream",
          "name": "stdout",
          "text": [
            "Emil Refsnes\n",
            "Tobias Refsnes\n",
            "Linus Refsnes\n"
          ]
        }
      ]
    },
    {
      "cell_type": "markdown",
      "source": [
        "### **Parameters or Arguments?**\n",
        "The terms parameter and argument can be used for the same thing: information that are passed into a function.\n",
        "\n",
        "* A parameter is the variable listed inside the parentheses in the function definition.\n",
        "\n",
        "* An argument is the value that is sent to the function when it is called."
      ],
      "metadata": {
        "id": "KmRwTTHhDBx4"
      }
    },
    {
      "cell_type": "markdown",
      "source": [
        "### **Number of Arguments**\n",
        "By default, a function must be called with the correct number of arguments. Meaning that if your function expects 2 arguments, you have to call the function with 2 arguments, not more, and not less."
      ],
      "metadata": {
        "id": "5_oR1nDeDIx5"
      }
    },
    {
      "cell_type": "code",
      "source": [
        "def my_function(fname, lname):\n",
        "  print(fname + \" \" + lname)\n",
        "\n",
        "my_function(\"Emil\", \"Refsnes\")"
      ],
      "metadata": {
        "colab": {
          "base_uri": "https://localhost:8080/"
        },
        "id": "fv-kLZvVDMnp",
        "outputId": "260733d9-4d70-4970-aafb-92a26c8e608b"
      },
      "execution_count": null,
      "outputs": [
        {
          "output_type": "stream",
          "name": "stdout",
          "text": [
            "Emil Refsnes\n"
          ]
        }
      ]
    },
    {
      "cell_type": "markdown",
      "source": [
        "If you try to call the function with 1 or 3 arguments, you will get an error:"
      ],
      "metadata": {
        "id": "V0clBT-wDcgb"
      }
    },
    {
      "cell_type": "code",
      "source": [
        "def my_function(fname, lname):\n",
        "  print(fname + \" \" + lname)\n",
        "\n",
        "my_function(\"Emil\",\"#\")"
      ],
      "metadata": {
        "colab": {
          "base_uri": "https://localhost:8080/"
        },
        "id": "GrY7Cz3fDc6S",
        "outputId": "7dc6f9fa-52cb-45b5-d3e4-36ddabd10450"
      },
      "execution_count": null,
      "outputs": [
        {
          "output_type": "stream",
          "name": "stdout",
          "text": [
            "Emil #\n"
          ]
        }
      ]
    },
    {
      "cell_type": "markdown",
      "source": [
        "## Arbitrary Arguments, *args\n",
        "\n",
        "* If you do not know how many arguments that will be passed into your function, add a * before the parameter name in the function definition.\n",
        "\n",
        "* This way the function will receive a tuple of arguments, and can access the items accordingly:"
      ],
      "metadata": {
        "id": "iizuDvAMDlJT"
      }
    },
    {
      "cell_type": "code",
      "source": [
        "def my_function(*kids):\n",
        "  print(\"The youngest child is \" + kids[2])\n",
        "\n",
        "my_function(\"Emil\", \"Tobias\", \"Linus\")"
      ],
      "metadata": {
        "colab": {
          "base_uri": "https://localhost:8080/"
        },
        "id": "XMTbdeuJDwHs",
        "outputId": "05fd6132-abd5-4534-9c7e-76eef33384f6"
      },
      "execution_count": null,
      "outputs": [
        {
          "output_type": "stream",
          "name": "stdout",
          "text": [
            "The youngest child is Linus\n"
          ]
        }
      ]
    },
    {
      "cell_type": "markdown",
      "source": [
        "Arbitrary Arguments are often shortened to *args in Python documentations."
      ],
      "metadata": {
        "id": "lSBF4j6iD4Wa"
      }
    },
    {
      "cell_type": "markdown",
      "source": [
        "### **Keyword Arguments**\n",
        "* You can also send arguments with the key = value syntax.\n",
        "\n",
        "* This way the order of the arguments does not matter.\n",
        "\n",
        "* The phrase Keyword Arguments are often shortened to ***kwargs*** in Python documentations."
      ],
      "metadata": {
        "id": "oLEgzGxdED2O"
      }
    },
    {
      "cell_type": "code",
      "source": [
        "def my_function(child3, child2, child1):\n",
        "  print(\"The youngest child is \" + child3)\n",
        "\n",
        "my_function(child1 = \"Emil\", child2 = \"Tobias\", child3 = \"Linus\")"
      ],
      "metadata": {
        "colab": {
          "base_uri": "https://localhost:8080/"
        },
        "id": "_qBGyzYxEFm_",
        "outputId": "e3c36814-8cbe-4b25-d73a-d3e50adcc03b"
      },
      "execution_count": null,
      "outputs": [
        {
          "output_type": "stream",
          "name": "stdout",
          "text": [
            "The youngest child is Linus\n"
          ]
        }
      ]
    },
    {
      "cell_type": "code",
      "source": [
        "def my_function(**kid):\n",
        "  print(\"His last name is \" + kid[\"lname\"])\n",
        "\n",
        "my_function(fname = \"Tobias\", lname = \"Refsnes\")"
      ],
      "metadata": {
        "id": "QultW82qEPLf",
        "outputId": "320dab93-bc7d-4657-f218-871efe312c83",
        "colab": {
          "base_uri": "https://localhost:8080/"
        }
      },
      "execution_count": null,
      "outputs": [
        {
          "output_type": "stream",
          "name": "stdout",
          "text": [
            "His last name is Refsnes\n"
          ]
        }
      ]
    },
    {
      "cell_type": "code",
      "source": [
        "def add_numbers(a, b):\n",
        "    return a + b\n",
        "\n",
        "print(add_numbers(2, 3))  # This will output 5"
      ],
      "metadata": {
        "colab": {
          "base_uri": "https://localhost:8080/"
        },
        "id": "v9PlwC4cdRDQ",
        "outputId": "43651459-6251-4465-e08a-17c75c9404d8"
      },
      "execution_count": null,
      "outputs": [
        {
          "output_type": "stream",
          "name": "stdout",
          "text": [
            "5\n"
          ]
        }
      ]
    },
    {
      "cell_type": "markdown",
      "source": [
        "### **What if we want a flexible number of inputs?**"
      ],
      "metadata": {
        "id": "OBT9xmN-c8RU"
      }
    },
    {
      "cell_type": "markdown",
      "source": [
        "Let’s imagine you want to write a function that can add any number of inputs (not just 2). For example, sometimes you might want to add 3 numbers, or 4, or 100!\n",
        "\n",
        "To solve this, we use *args.\n",
        "\n",
        "### **Step 3: What is** *args?\n",
        "The * symbol is like saying: “Hey, Python, I don’t know how many arguments (inputs) I’m going to get.”\n",
        "args is just a name (you can call it anything), but args is commonly used. It stands for arguments.\n",
        "How does *args work?\n",
        "When you use *args, all the extra inputs are packed into a tuple (which is like a box that holds multiple things). Let’s see it in action:\n",
        "\n",
        "Example with *args:"
      ],
      "metadata": {
        "id": "ovon9ULKc90r"
      }
    },
    {
      "cell_type": "code",
      "source": [
        "def add_numbers(*args):\n",
        "    total = 0\n",
        "    for number in args:\n",
        "        total += number\n",
        "    return total\n",
        "\n",
        "print(add_numbers(1, 2))            # This will output 3\n",
        "print(add_numbers(1, 2, 3, 4, 5))   # This will output 15\n"
      ],
      "metadata": {
        "colab": {
          "base_uri": "https://localhost:8080/"
        },
        "id": "961EeyYkdUTt",
        "outputId": "a54eaaf6-b431-4db4-d2b5-fc9ac873228d"
      },
      "execution_count": null,
      "outputs": [
        {
          "output_type": "stream",
          "name": "stdout",
          "text": [
            "3\n",
            "15\n"
          ]
        }
      ]
    },
    {
      "cell_type": "code",
      "source": [
        "def multiply(*args):\n",
        "  total = 1\n",
        "  for number in args:\n",
        "    total = total * number\n",
        "  return total\n",
        "\n",
        "print(multiply(1,2))\n",
        "print(multiply(1,2,3))"
      ],
      "metadata": {
        "colab": {
          "base_uri": "https://localhost:8080/"
        },
        "id": "AyUsqIzPdVAV",
        "outputId": "efa6a973-f397-4c06-f2e6-cd2d355f7ce2"
      },
      "execution_count": null,
      "outputs": [
        {
          "output_type": "stream",
          "name": "stdout",
          "text": [
            "2\n",
            "6\n"
          ]
        }
      ]
    },
    {
      "cell_type": "code",
      "source": [
        "def multiply(*args):\n",
        "  total = 1\n",
        "  for number in args:\n",
        "    total = total * number\n",
        "  return total\n",
        "\n",
        "print(multiply(1,2,3,4,5))"
      ],
      "metadata": {
        "colab": {
          "base_uri": "https://localhost:8080/"
        },
        "id": "-4q6M9zydwjN",
        "outputId": "8ed09de9-6544-4862-bc20-d9b9b50e4e88"
      },
      "execution_count": null,
      "outputs": [
        {
          "output_type": "stream",
          "name": "stdout",
          "text": [
            "120\n"
          ]
        }
      ]
    },
    {
      "cell_type": "code",
      "source": [
        "def myFun(arg1, *argv):\n",
        "    print(\"First argument :\", arg1)\n",
        "    for arg in argv:\n",
        "        print(\"Next argument through *argv :\", arg)\n",
        "\n",
        "\n",
        "myFun('Hello', 'Welcome', 'to', 'GeeksforGeeks')"
      ],
      "metadata": {
        "colab": {
          "base_uri": "https://localhost:8080/"
        },
        "id": "p3aQiSXVfNLE",
        "outputId": "652ccb76-a31a-4e3e-e348-f4e73cf784cb"
      },
      "execution_count": null,
      "outputs": [
        {
          "output_type": "stream",
          "name": "stdout",
          "text": [
            "First argument : Hello\n",
            "Next argument through *argv : Welcome\n",
            "Next argument through *argv : to\n",
            "Next argument through *argv : GeeksforGeeks\n"
          ]
        }
      ]
    },
    {
      "cell_type": "markdown",
      "source": [
        "### **Step 4: What is** **kwargs?\n",
        "Now let’s take it up a notch. What if, instead of just values, you also want to give names to your inputs? This is where **kwargs comes in.\n",
        "\n",
        "* The ** symbol means: “Hey, Python, I’m going to give you inputs with names (key-value pairs).”\n",
        "\n",
        "* kwargs stands for keyword arguments (because each input has a keyword, or name, like \"age\" or \"name\").\n",
        "* How does **kwargs work?\n",
        "  \n",
        "  When you use **kwargs, all the named inputs are packed into a dictionary (a box that holds things with labels, like \"name\": \"Alice\")."
      ],
      "metadata": {
        "id": "hI9CJrUjeEhZ"
      }
    },
    {
      "cell_type": "code",
      "source": [
        "def introduce(**kwargs):\n",
        "    for key, value in kwargs.items():\n",
        "        print(f\"{key}: {value}\")\n",
        "\n",
        "introduce(name=\"Alice\", age=10, hobby=\"drawing\")"
      ],
      "metadata": {
        "colab": {
          "base_uri": "https://localhost:8080/"
        },
        "id": "pEAiObd6eWTD",
        "outputId": "94b86cd4-1ae0-4e39-ddee-1e1175532b0b"
      },
      "execution_count": null,
      "outputs": [
        {
          "output_type": "stream",
          "name": "stdout",
          "text": [
            "name: Alice\n",
            "age: 10\n",
            "hobby: drawing\n"
          ]
        }
      ]
    },
    {
      "cell_type": "code",
      "source": [
        "def student_profile(**kwargs):\n",
        "    print(\"Student Profile:\")\n",
        "    for key, value in kwargs.items():\n",
        "        print(f\"{key.capitalize()}: {value}\")\n",
        "\n",
        "student_profile(name=\"John\", age=15, grade=\"10th\", hobby=\"painting\")\n"
      ],
      "metadata": {
        "colab": {
          "base_uri": "https://localhost:8080/"
        },
        "id": "ZIPN4SM4egAG",
        "outputId": "2c9dbc50-4b2c-4c3d-f7a4-a313785165a0"
      },
      "execution_count": null,
      "outputs": [
        {
          "output_type": "stream",
          "name": "stdout",
          "text": [
            "Student Profile:\n",
            "Name: John\n",
            "Age: 15\n",
            "Grade: 10th\n",
            "Hobby: painting\n"
          ]
        }
      ]
    },
    {
      "cell_type": "code",
      "source": [
        "def student(**kwargs):\n",
        "  print(\"profile\")\n",
        "  for key, value in kwargs.items():\n",
        "    print(f\"{key}:{value}\")\n",
        "student(name=\"John\", age=15, grade=\"10th\", hobby=\"painting\")"
      ],
      "metadata": {
        "colab": {
          "base_uri": "https://localhost:8080/"
        },
        "id": "AXx69jTaf6Ce",
        "outputId": "177bc58e-5571-4d7a-b56a-b153c31d3486"
      },
      "execution_count": null,
      "outputs": [
        {
          "output_type": "stream",
          "name": "stdout",
          "text": [
            "profile\n",
            "name:John\n",
            "age:15\n",
            "grade:10th\n",
            "hobby:painting\n"
          ]
        }
      ]
    },
    {
      "cell_type": "code",
      "source": [
        "def myFun(arg1, arg2, arg3):\n",
        "    print(\"arg1:\", arg1)\n",
        "    print(\"arg2:\", arg2)\n",
        "    print(\"arg3:\", arg3)\n",
        "\n",
        "# Now we can use *args or **kwargs to\n",
        "# pass arguments to this function :\n",
        "args = (\"Geeks\", \"for\", \"Geeks\")\n",
        "myFun(*args)"
      ],
      "metadata": {
        "colab": {
          "base_uri": "https://localhost:8080/"
        },
        "id": "PhLWy_Y_guwA",
        "outputId": "46586c11-8eba-4a34-ca10-fb1ce1e8cd7a"
      },
      "execution_count": null,
      "outputs": [
        {
          "output_type": "stream",
          "name": "stdout",
          "text": [
            "arg1: Geeks\n",
            "arg2: for\n",
            "arg3: Geeks\n"
          ]
        }
      ]
    },
    {
      "cell_type": "code",
      "source": [
        "kwargs = {\"arg1\": \"Geeks\", \"arg2\": \"for\", \"arg3\": \"Geeks\"}\n",
        "myFun(**kwargs)"
      ],
      "metadata": {
        "colab": {
          "base_uri": "https://localhost:8080/"
        },
        "id": "34T66q_fg8H0",
        "outputId": "0673c921-1561-4bed-9e58-d116a01e95c7"
      },
      "execution_count": null,
      "outputs": [
        {
          "output_type": "stream",
          "name": "stdout",
          "text": [
            "arg1: Geeks\n",
            "arg2: for\n",
            "arg3: Geeks\n"
          ]
        }
      ]
    },
    {
      "cell_type": "markdown",
      "source": [
        "### **Python Iterators**"
      ],
      "metadata": {
        "id": "cCAx6OUNn9mk"
      }
    },
    {
      "cell_type": "markdown",
      "source": [
        "* An iterator is an *object that contains a countable number of values*.\n",
        "\n",
        "* An iterator is an object that can be iterated upon, meaning that you can traverse through all the values.\n",
        "\n",
        "* Technically, in Python, an iterator is an object which implements the iterator protocol, which consist of the methods __iter__() and __next__()."
      ],
      "metadata": {
        "id": "BBqSZ8_Ln_HF"
      }
    },
    {
      "cell_type": "markdown",
      "source": [
        "#### **Iterator vs Iterable**\n",
        "* Lists, tuples, dictionaries, and sets are all iterable objects. They are iterable containers which you can get an iterator from.\n",
        "\n",
        "* All these objects have a iter() method which is used to get an iterator:"
      ],
      "metadata": {
        "id": "WwC7ozqmoI1U"
      }
    },
    {
      "cell_type": "code",
      "source": [
        "mytuple = (\"apple\", \"banana\", \"cherry\")\n",
        "myit = iter(mytuple)\n",
        "\n",
        "print(next(myit))"
      ],
      "metadata": {
        "colab": {
          "base_uri": "https://localhost:8080/"
        },
        "id": "-8IAvKNKn-q7",
        "outputId": "d0f2f6bf-f86d-41ec-85e3-5f716768993f"
      },
      "execution_count": null,
      "outputs": [
        {
          "output_type": "stream",
          "name": "stdout",
          "text": [
            "apple\n"
          ]
        }
      ]
    },
    {
      "cell_type": "code",
      "source": [
        "print(next(myit))"
      ],
      "metadata": {
        "colab": {
          "base_uri": "https://localhost:8080/"
        },
        "id": "OZKIIdWMoUHf",
        "outputId": "89bff7b7-d275-42ec-8ea0-35860150bb82"
      },
      "execution_count": null,
      "outputs": [
        {
          "output_type": "stream",
          "name": "stdout",
          "text": [
            "banana\n"
          ]
        }
      ]
    },
    {
      "cell_type": "code",
      "source": [
        "print(next(myit))"
      ],
      "metadata": {
        "colab": {
          "base_uri": "https://localhost:8080/"
        },
        "id": "OSqJOQyDoV26",
        "outputId": "d514dd48-6422-4675-c8b3-8742290ebd41"
      },
      "execution_count": null,
      "outputs": [
        {
          "output_type": "stream",
          "name": "stdout",
          "text": [
            "cherry\n"
          ]
        }
      ]
    },
    {
      "cell_type": "markdown",
      "source": [
        "Even strings are iterable objects, and can return an iterator:"
      ],
      "metadata": {
        "id": "x9qh9SGyp9wQ"
      }
    },
    {
      "cell_type": "code",
      "source": [
        "mystr = \"banana\"\n",
        "myit = iter(mystr)"
      ],
      "metadata": {
        "id": "IikKKC7Mp-My"
      },
      "execution_count": null,
      "outputs": []
    },
    {
      "cell_type": "code",
      "source": [
        "print(next(myit))"
      ],
      "metadata": {
        "colab": {
          "base_uri": "https://localhost:8080/"
        },
        "id": "_VnMjef5qAWh",
        "outputId": "ff7b25ee-d602-4879-e026-bae6f63cd010"
      },
      "execution_count": null,
      "outputs": [
        {
          "output_type": "stream",
          "name": "stdout",
          "text": [
            "b\n"
          ]
        }
      ]
    },
    {
      "cell_type": "code",
      "source": [
        "print(next(myit))\n",
        "print(next(myit))"
      ],
      "metadata": {
        "colab": {
          "base_uri": "https://localhost:8080/"
        },
        "id": "F89rulE6qEVi",
        "outputId": "113cfa2f-808e-4ff3-9e54-af24edabb867"
      },
      "execution_count": null,
      "outputs": [
        {
          "output_type": "stream",
          "name": "stdout",
          "text": [
            "a\n",
            "n\n"
          ]
        }
      ]
    },
    {
      "cell_type": "code",
      "source": [
        "print(next(myit))\n",
        "print(next(myit))\n",
        "print(next(myit))"
      ],
      "metadata": {
        "colab": {
          "base_uri": "https://localhost:8080/"
        },
        "id": "jzkLeK2IqF4a",
        "outputId": "cf5d50b3-483e-4878-fdf6-23b4bb3660bf"
      },
      "execution_count": null,
      "outputs": [
        {
          "output_type": "stream",
          "name": "stdout",
          "text": [
            "a\n",
            "n\n",
            "a\n"
          ]
        }
      ]
    },
    {
      "cell_type": "markdown",
      "source": [
        "#### **Looping Through an Iterator**\n",
        "We can also use a for loop to iterate through an iterable object:"
      ],
      "metadata": {
        "id": "H1S-C9kZqKSa"
      }
    },
    {
      "cell_type": "code",
      "source": [
        "mytuple = (\"apple\", \"banana\", \"cherry\")\n",
        "\n",
        "for x in mytuple:\n",
        "  print(x)"
      ],
      "metadata": {
        "colab": {
          "base_uri": "https://localhost:8080/"
        },
        "id": "JTWVLcUTqL4q",
        "outputId": "c2b01dc7-cdfe-475e-f0e7-96d974cde5f8"
      },
      "execution_count": null,
      "outputs": [
        {
          "output_type": "stream",
          "name": "stdout",
          "text": [
            "apple\n",
            "banana\n",
            "cherry\n"
          ]
        }
      ]
    },
    {
      "cell_type": "code",
      "source": [
        "mystr = \"banana\"\n",
        "\n",
        "for x in mystr:\n",
        "  print(x)"
      ],
      "metadata": {
        "colab": {
          "base_uri": "https://localhost:8080/"
        },
        "id": "mLPN4hG3qSRK",
        "outputId": "66777bd8-90f4-4c0a-bf2c-d1291af98b16"
      },
      "execution_count": null,
      "outputs": [
        {
          "output_type": "stream",
          "name": "stdout",
          "text": [
            "b\n",
            "a\n",
            "n\n",
            "a\n",
            "n\n",
            "a\n"
          ]
        }
      ]
    },
    {
      "cell_type": "markdown",
      "source": [
        "The for loop actually creates an iterator object and executes the next() method for each loop."
      ],
      "metadata": {
        "id": "QiPf96KOqUtL"
      }
    },
    {
      "cell_type": "markdown",
      "source": [
        "### **Create an Iterator**\n",
        "* To create an object/class as an iterator you have to implement the methods __iter__() and __next__() to your object.\n",
        "\n",
        "* As you have learned in the Python Classes/Objects chapter, all classes have a function called __init__(), which allows you to do some initializing when the object is being created.\n",
        "\n",
        "* The __iter__() method acts similar, you can do operations (initializing etc.), but must always return the iterator object itself.\n",
        "\n",
        "* The __next__() method also allows you to do operations, and must return the next item in the sequence."
      ],
      "metadata": {
        "id": "K-B9UXoYT9Nd"
      }
    },
    {
      "cell_type": "code",
      "source": [],
      "metadata": {
        "id": "ZKs4_0IrqVN7"
      },
      "execution_count": null,
      "outputs": []
    }
  ]
}